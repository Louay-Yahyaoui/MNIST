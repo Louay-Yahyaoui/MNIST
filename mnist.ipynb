{
 "cells": [
  {
   "cell_type": "code",
   "execution_count": 1,
   "id": "91b640ae",
   "metadata": {
    "_cell_guid": "b1076dfc-b9ad-4769-8c92-a6c4dae69d19",
    "_uuid": "8f2839f25d086af736a60e9eeb907d3b93b6e0e5",
    "execution": {
     "iopub.execute_input": "2023-10-10T14:01:46.429362Z",
     "iopub.status.busy": "2023-10-10T14:01:46.428956Z",
     "iopub.status.idle": "2023-10-10T14:01:52.948271Z",
     "shell.execute_reply": "2023-10-10T14:01:52.946931Z"
    },
    "papermill": {
     "duration": 6.526932,
     "end_time": "2023-10-10T14:01:52.950322",
     "exception": false,
     "start_time": "2023-10-10T14:01:46.423390",
     "status": "completed"
    },
    "tags": []
   },
   "outputs": [
    {
     "name": "stderr",
     "output_type": "stream",
     "text": [
      "/opt/conda/lib/python3.10/site-packages/scipy/__init__.py:146: UserWarning: A NumPy version >=1.16.5 and <1.23.0 is required for this version of SciPy (detected version 1.23.5\n",
      "  warnings.warn(f\"A NumPy version >={np_minversion} and <{np_maxversion}\"\n",
      "/opt/conda/lib/python3.10/site-packages/tensorflow_io/python/ops/__init__.py:98: UserWarning: unable to load libtensorflow_io_plugins.so: unable to open file: libtensorflow_io_plugins.so, from paths: ['/opt/conda/lib/python3.10/site-packages/tensorflow_io/python/ops/libtensorflow_io_plugins.so']\n",
      "caused by: ['/opt/conda/lib/python3.10/site-packages/tensorflow_io/python/ops/libtensorflow_io_plugins.so: undefined symbol: _ZN3tsl6StatusC1EN10tensorflow5error4CodeESt17basic_string_viewIcSt11char_traitsIcEENS_14SourceLocationE']\n",
      "  warnings.warn(f\"unable to load libtensorflow_io_plugins.so: {e}\")\n",
      "/opt/conda/lib/python3.10/site-packages/tensorflow_io/python/ops/__init__.py:104: UserWarning: file system plugins are not loaded: unable to open file: libtensorflow_io.so, from paths: ['/opt/conda/lib/python3.10/site-packages/tensorflow_io/python/ops/libtensorflow_io.so']\n",
      "caused by: ['/opt/conda/lib/python3.10/site-packages/tensorflow_io/python/ops/libtensorflow_io.so: undefined symbol: _ZTVN10tensorflow13GcsFileSystemE']\n",
      "  warnings.warn(f\"file system plugins are not loaded: {e}\")\n"
     ]
    },
    {
     "name": "stdout",
     "output_type": "stream",
     "text": [
      "/kaggle/input/digit-recognizer/sample_submission.csv\n",
      "/kaggle/input/digit-recognizer/train.csv\n",
      "/kaggle/input/digit-recognizer/test.csv\n"
     ]
    }
   ],
   "source": [
    "# This Python 3 environment comes with many helpful analytics libraries installed\n",
    "# It is defined by the kaggle/python Docker image: https://github.com/kaggle/docker-python\n",
    "# For example, here's several helpful packages to load\n",
    "\n",
    "import numpy as np # linear algebra\n",
    "import pandas as pd # data processing, CSV file I/O (e.g. pd.read_csv)\n",
    "import tensorflow as tf\n",
    "from tensorflow.keras.layers import Dense, Flatten, Conv2D, Dropout, AveragePooling2D\n",
    "from tensorflow.keras import Model\n",
    "\n",
    "# Input data files are available in the read-only \"../input/\" directory\n",
    "# For example, running this (by clicking run or pressing Shift+Enter) will list all files under the input directory\n",
    "\n",
    "import os\n",
    "for dirname, _, filenames in os.walk('/kaggle/input'):\n",
    "    for filename in filenames:\n",
    "        print(os.path.join(dirname, filename))\n",
    "\n",
    "# You can write up to 20GB to the current directory (/kaggle/working/) that gets preserved as output when you create a version using \"Save & Run All\" \n",
    "# You can also write temporary files to /kaggle/temp/, but they won't be saved outside of the current session"
   ]
  },
  {
   "cell_type": "markdown",
   "id": "74de02b2",
   "metadata": {
    "papermill": {
     "duration": 0.003843,
     "end_time": "2023-10-10T14:01:52.958215",
     "exception": false,
     "start_time": "2023-10-10T14:01:52.954372",
     "status": "completed"
    },
    "tags": []
   },
   "source": [
    "# Importing data"
   ]
  },
  {
   "cell_type": "code",
   "execution_count": 2,
   "id": "880e6b04",
   "metadata": {
    "execution": {
     "iopub.execute_input": "2023-10-10T14:01:52.967780Z",
     "iopub.status.busy": "2023-10-10T14:01:52.966494Z",
     "iopub.status.idle": "2023-10-10T14:01:57.621365Z",
     "shell.execute_reply": "2023-10-10T14:01:57.620393Z"
    },
    "papermill": {
     "duration": 4.661471,
     "end_time": "2023-10-10T14:01:57.623463",
     "exception": false,
     "start_time": "2023-10-10T14:01:52.961992",
     "status": "completed"
    },
    "tags": []
   },
   "outputs": [],
   "source": [
    "train_data = pd.read_csv(\"/kaggle/input/digit-recognizer/train.csv\")\n",
    "X_test = pd.read_csv(\"/kaggle/input/digit-recognizer/test.csv\")"
   ]
  },
  {
   "cell_type": "code",
   "execution_count": 3,
   "id": "d4aa642f",
   "metadata": {
    "execution": {
     "iopub.execute_input": "2023-10-10T14:01:57.634318Z",
     "iopub.status.busy": "2023-10-10T14:01:57.633477Z",
     "iopub.status.idle": "2023-10-10T14:01:57.718171Z",
     "shell.execute_reply": "2023-10-10T14:01:57.717195Z"
    },
    "papermill": {
     "duration": 0.091677,
     "end_time": "2023-10-10T14:01:57.720290",
     "exception": false,
     "start_time": "2023-10-10T14:01:57.628613",
     "status": "completed"
    },
    "tags": []
   },
   "outputs": [],
   "source": [
    "y = train_data[\"label\"]\n",
    "X = train_data.drop(\"label\", axis = 1)"
   ]
  },
  {
   "cell_type": "markdown",
   "id": "78d41d2e",
   "metadata": {
    "papermill": {
     "duration": 0.004168,
     "end_time": "2023-10-10T14:01:57.728762",
     "exception": false,
     "start_time": "2023-10-10T14:01:57.724594",
     "status": "completed"
    },
    "tags": []
   },
   "source": [
    "# Preprocessing"
   ]
  },
  {
   "cell_type": "markdown",
   "id": "278640f1",
   "metadata": {
    "papermill": {
     "duration": 0.003602,
     "end_time": "2023-10-10T14:01:57.736234",
     "exception": false,
     "start_time": "2023-10-10T14:01:57.732632",
     "status": "completed"
    },
    "tags": []
   },
   "source": [
    "The data is 784 pixels (28*28) and it's in grayscale so the input to the model is going to be 28 * 28 * 1 as it only has one channel.\n",
    "It also helps for the data to be between 0 and 1 instead of 0 and 255 as it helps the model converge faster and wouldn't have massive gradients at initialization."
   ]
  },
  {
   "cell_type": "code",
   "execution_count": 4,
   "id": "8a98be97",
   "metadata": {
    "execution": {
     "iopub.execute_input": "2023-10-10T14:01:57.745051Z",
     "iopub.status.busy": "2023-10-10T14:01:57.744750Z",
     "iopub.status.idle": "2023-10-10T14:02:00.906363Z",
     "shell.execute_reply": "2023-10-10T14:02:00.905439Z"
    },
    "papermill": {
     "duration": 3.168375,
     "end_time": "2023-10-10T14:02:00.908465",
     "exception": false,
     "start_time": "2023-10-10T14:01:57.740090",
     "status": "completed"
    },
    "tags": []
   },
   "outputs": [],
   "source": [
    "# Converting dataframe to tensorflow tensor then scaling the data to [0,1]\n",
    "X = tf.convert_to_tensor(X, tf.float64) / 255.0\n",
    "X_test = tf.convert_to_tensor(X_test, tf.float64) / 255.0\n",
    "y = tf.convert_to_tensor(y)\n",
    "X = tf.reshape(X, (-1, 28, 28, 1))\n",
    "X_test = tf.reshape(X_test, (-1,28,28,1))"
   ]
  },
  {
   "cell_type": "code",
   "execution_count": 5,
   "id": "ec5dda86",
   "metadata": {
    "execution": {
     "iopub.execute_input": "2023-10-10T14:02:00.917718Z",
     "iopub.status.busy": "2023-10-10T14:02:00.917175Z",
     "iopub.status.idle": "2023-10-10T14:02:00.933343Z",
     "shell.execute_reply": "2023-10-10T14:02:00.932503Z"
    },
    "papermill": {
     "duration": 0.022637,
     "end_time": "2023-10-10T14:02:00.935157",
     "exception": false,
     "start_time": "2023-10-10T14:02:00.912520",
     "status": "completed"
    },
    "tags": []
   },
   "outputs": [],
   "source": [
    "n1 = int(X.shape[0]*.9)\n",
    "X_train, y_train = X[:n1], y[:n1]\n",
    "X_valid, y_valid = X[n1:], y[n1:]"
   ]
  },
  {
   "cell_type": "markdown",
   "id": "3cef847b",
   "metadata": {
    "papermill": {
     "duration": 0.00361,
     "end_time": "2023-10-10T14:02:00.942479",
     "exception": false,
     "start_time": "2023-10-10T14:02:00.938869",
     "status": "completed"
    },
    "tags": []
   },
   "source": [
    "# Model training"
   ]
  },
  {
   "cell_type": "markdown",
   "id": "e17734ca",
   "metadata": {
    "papermill": {
     "duration": 0.003537,
     "end_time": "2023-10-10T14:02:00.949983",
     "exception": false,
     "start_time": "2023-10-10T14:02:00.946446",
     "status": "completed"
    },
    "tags": []
   },
   "source": [
    "A basic CNN with 2 conv layers and 2 hidden layers, I use dropout on every single layer with p = 0.3 except for the input where I have found that it hinders performance. \n",
    "\n",
    "There is some data augmentation as well with a random rotation below 10° and a random translation between 0 and .1 in both dimensions.\n"
   ]
  },
  {
   "cell_type": "code",
   "execution_count": 6,
   "id": "241c64b3",
   "metadata": {
    "execution": {
     "iopub.execute_input": "2023-10-10T14:02:00.958750Z",
     "iopub.status.busy": "2023-10-10T14:02:00.958252Z",
     "iopub.status.idle": "2023-10-10T14:02:00.962580Z",
     "shell.execute_reply": "2023-10-10T14:02:00.961694Z"
    },
    "papermill": {
     "duration": 0.010639,
     "end_time": "2023-10-10T14:02:00.964279",
     "exception": false,
     "start_time": "2023-10-10T14:02:00.953640",
     "status": "completed"
    },
    "tags": []
   },
   "outputs": [],
   "source": [
    "kernel_size  = 3\n",
    "dropout_rate = .3\n",
    "pool_size = (2, 2)"
   ]
  },
  {
   "cell_type": "code",
   "execution_count": 7,
   "id": "48644958",
   "metadata": {
    "execution": {
     "iopub.execute_input": "2023-10-10T14:02:00.972738Z",
     "iopub.status.busy": "2023-10-10T14:02:00.972500Z",
     "iopub.status.idle": "2023-10-10T14:02:00.980363Z",
     "shell.execute_reply": "2023-10-10T14:02:00.979517Z"
    },
    "papermill": {
     "duration": 0.014024,
     "end_time": "2023-10-10T14:02:00.981955",
     "exception": false,
     "start_time": "2023-10-10T14:02:00.967931",
     "status": "completed"
    },
    "tags": []
   },
   "outputs": [],
   "source": [
    "class MNIST(Model):\n",
    "    def __init__(self):\n",
    "        super().__init__()\n",
    "        self.training = True\n",
    "        \n",
    "        # Data augmentation\n",
    "        self.translate = tf.keras.layers.RandomTranslation(.1, .1)\n",
    "        self.rotate = tf.keras.layers.RandomRotation(.03)\n",
    "        \n",
    "        self.conv1 = Conv2D(64, kernel_size, activation = \"relu\")\n",
    "        self.pool1 = AveragePooling2D(pool_size)\n",
    "        self.dropout1 = Dropout(dropout_rate)\n",
    "        \n",
    "        self.conv2 = Conv2D(30, kernel_size, activation = \"relu\")\n",
    "        self.pool2 = AveragePooling2D(pool_size)\n",
    "        self.flatten = Flatten()\n",
    "        self.dropout2 = Dropout(dropout_rate)\n",
    "        \n",
    "        self.ln1 = Dense(1024, activation = \"relu\")\n",
    "        self.dropout3 = Dropout(dropout_rate)\n",
    "        \n",
    "        self.ln2 = Dense(2048, activation = \"relu\")\n",
    "        self.dropout4 = Dropout(dropout_rate)\n",
    "        \n",
    "        self.out = Dense(10)\n",
    "        \n",
    "    def call(self, x):\n",
    "            \n",
    "        x = self.translate(x, training = self.training)\n",
    "        x = self.rotate(x, training = self.training)\n",
    "        \n",
    "        x = self.conv1(x)\n",
    "        x = self.pool1(x)\n",
    "        x = self.dropout1(x, training = self.training)\n",
    "        \n",
    "        x = self.conv2(x)\n",
    "        x = self.pool2(x)\n",
    "        x = self.dropout2(x, training = self.training)\n",
    "        x = self.flatten(x)\n",
    "        \n",
    "        x = self.ln1(x)\n",
    "        x = self.dropout3(x, training = self.training)\n",
    "        \n",
    "        x = self.ln2(x)\n",
    "        x = self.dropout4(x, training = self.training)\n",
    "        \n",
    "        out = self.out(x)\n",
    "        \n",
    "        return out"
   ]
  },
  {
   "cell_type": "code",
   "execution_count": 8,
   "id": "9e0d7e18",
   "metadata": {
    "execution": {
     "iopub.execute_input": "2023-10-10T14:02:00.990429Z",
     "iopub.status.busy": "2023-10-10T14:02:00.990204Z",
     "iopub.status.idle": "2023-10-10T14:02:01.258690Z",
     "shell.execute_reply": "2023-10-10T14:02:01.257986Z"
    },
    "papermill": {
     "duration": 0.296582,
     "end_time": "2023-10-10T14:02:01.282195",
     "exception": false,
     "start_time": "2023-10-10T14:02:00.985613",
     "status": "completed"
    },
    "tags": []
   },
   "outputs": [
    {
     "name": "stdout",
     "output_type": "stream",
     "text": [
      "Model: \"mnist\"\n",
      "_________________________________________________________________\n",
      " Layer (type)                Output Shape              Param #   \n",
      "=================================================================\n",
      " random_translation (RandomT  multiple                 0         \n",
      " ranslation)                                                     \n",
      "                                                                 \n",
      " random_rotation (RandomRota  multiple                 0         \n",
      " tion)                                                           \n",
      "                                                                 \n",
      " conv2d (Conv2D)             multiple                  640       \n",
      "                                                                 \n",
      " average_pooling2d (AverageP  multiple                 0         \n",
      " ooling2D)                                                       \n",
      "                                                                 \n",
      " dropout (Dropout)           multiple                  0         \n",
      "                                                                 \n",
      " conv2d_1 (Conv2D)           multiple                  17310     \n",
      "                                                                 \n",
      " average_pooling2d_1 (Averag  multiple                 0         \n",
      " ePooling2D)                                                     \n",
      "                                                                 \n",
      " flatten (Flatten)           multiple                  0         \n",
      "                                                                 \n",
      " dropout_1 (Dropout)         multiple                  0         \n",
      "                                                                 \n",
      " dense (Dense)               multiple                  769024    \n",
      "                                                                 \n",
      " dropout_2 (Dropout)         multiple                  0         \n",
      "                                                                 \n",
      " dense_1 (Dense)             multiple                  2099200   \n",
      "                                                                 \n",
      " dropout_3 (Dropout)         multiple                  0         \n",
      "                                                                 \n",
      " dense_2 (Dense)             multiple                  20490     \n",
      "                                                                 \n",
      "=================================================================\n",
      "Total params: 2,906,664\n",
      "Trainable params: 2,906,664\n",
      "Non-trainable params: 0\n",
      "_________________________________________________________________\n"
     ]
    }
   ],
   "source": [
    "model= MNIST()\n",
    "model.build((None, 28, 28, 1))\n",
    "model.summary()"
   ]
  },
  {
   "cell_type": "markdown",
   "id": "9f25a177",
   "metadata": {
    "papermill": {
     "duration": 0.005535,
     "end_time": "2023-10-10T14:02:01.293357",
     "exception": false,
     "start_time": "2023-10-10T14:02:01.287822",
     "status": "completed"
    },
    "tags": []
   },
   "source": [
    "The dropout paper claims that decaying learning rate works best for NNs with dropout so that's why I chose exponential decay. As for the actual values, several were tested and this seemed to work best."
   ]
  },
  {
   "cell_type": "code",
   "execution_count": 9,
   "id": "6bbc71de",
   "metadata": {
    "execution": {
     "iopub.execute_input": "2023-10-10T14:02:01.305760Z",
     "iopub.status.busy": "2023-10-10T14:02:01.305426Z",
     "iopub.status.idle": "2023-10-10T14:02:01.323891Z",
     "shell.execute_reply": "2023-10-10T14:02:01.323063Z"
    },
    "papermill": {
     "duration": 0.02678,
     "end_time": "2023-10-10T14:02:01.325679",
     "exception": false,
     "start_time": "2023-10-10T14:02:01.298899",
     "status": "completed"
    },
    "tags": []
   },
   "outputs": [],
   "source": [
    "lr = tf.keras.optimizers.schedules.ExponentialDecay(5e-4, 500, .9)\n",
    "optimizer = tf.keras.optimizers.Adam(lr)\n",
    "loss_fn = tf.keras.losses.SparseCategoricalCrossentropy(from_logits = True)"
   ]
  },
  {
   "cell_type": "markdown",
   "id": "79928e8b",
   "metadata": {
    "papermill": {
     "duration": 0.005508,
     "end_time": "2023-10-10T14:02:01.336950",
     "exception": false,
     "start_time": "2023-10-10T14:02:01.331442",
     "status": "completed"
    },
    "tags": []
   },
   "source": [
    "I use the training and testing steps straight from the tensorflow docs with minor changes."
   ]
  },
  {
   "cell_type": "code",
   "execution_count": 10,
   "id": "74568376",
   "metadata": {
    "execution": {
     "iopub.execute_input": "2023-10-10T14:02:01.349222Z",
     "iopub.status.busy": "2023-10-10T14:02:01.348798Z",
     "iopub.status.idle": "2023-10-10T14:02:01.354057Z",
     "shell.execute_reply": "2023-10-10T14:02:01.353067Z"
    },
    "papermill": {
     "duration": 0.013554,
     "end_time": "2023-10-10T14:02:01.356136",
     "exception": false,
     "start_time": "2023-10-10T14:02:01.342582",
     "status": "completed"
    },
    "tags": []
   },
   "outputs": [],
   "source": [
    "@tf.function\n",
    "def train_step(X:tf.Tensor, y:tf.Tensor):\n",
    "    model.training = True\n",
    "    \n",
    "    with tf.GradientTape() as tape:\n",
    "        predictions = model(X)\n",
    "        loss = loss_fn(y, predictions)\n",
    "    \n",
    "    gradients = tape.gradient(loss, model.trainable_variables)\n",
    "    optimizer.apply_gradients(zip(gradients, model.trainable_variables))\n",
    "    \n",
    "    return loss"
   ]
  },
  {
   "cell_type": "code",
   "execution_count": 11,
   "id": "5a802dd8",
   "metadata": {
    "execution": {
     "iopub.execute_input": "2023-10-10T14:02:01.369317Z",
     "iopub.status.busy": "2023-10-10T14:02:01.368608Z",
     "iopub.status.idle": "2023-10-10T14:02:01.373571Z",
     "shell.execute_reply": "2023-10-10T14:02:01.372730Z"
    },
    "papermill": {
     "duration": 0.012876,
     "end_time": "2023-10-10T14:02:01.375292",
     "exception": false,
     "start_time": "2023-10-10T14:02:01.362416",
     "status": "completed"
    },
    "tags": []
   },
   "outputs": [],
   "source": [
    "@tf.function\n",
    "def test_step(images, labels):\n",
    "    model.training = False\n",
    "    predictions = model(images)\n",
    "    loss = loss_fn(labels, predictions)\n",
    "    return loss"
   ]
  },
  {
   "cell_type": "markdown",
   "id": "610af023",
   "metadata": {
    "papermill": {
     "duration": 0.005398,
     "end_time": "2023-10-10T14:02:01.386276",
     "exception": false,
     "start_time": "2023-10-10T14:02:01.380878",
     "status": "completed"
    },
    "tags": []
   },
   "source": [
    "I used a fairly typical training loop."
   ]
  },
  {
   "cell_type": "code",
   "execution_count": 12,
   "id": "94ad83b3",
   "metadata": {
    "execution": {
     "iopub.execute_input": "2023-10-10T14:02:01.398309Z",
     "iopub.status.busy": "2023-10-10T14:02:01.398068Z",
     "iopub.status.idle": "2023-10-10T14:02:01.401909Z",
     "shell.execute_reply": "2023-10-10T14:02:01.400916Z"
    },
    "papermill": {
     "duration": 0.011925,
     "end_time": "2023-10-10T14:02:01.403641",
     "exception": false,
     "start_time": "2023-10-10T14:02:01.391716",
     "status": "completed"
    },
    "tags": []
   },
   "outputs": [],
   "source": [
    "batch_size = 128\n",
    "EPOCHS = 60"
   ]
  },
  {
   "cell_type": "code",
   "execution_count": 13,
   "id": "3ff353af",
   "metadata": {
    "execution": {
     "iopub.execute_input": "2023-10-10T14:02:01.416125Z",
     "iopub.status.busy": "2023-10-10T14:02:01.415367Z",
     "iopub.status.idle": "2023-10-10T14:02:01.635373Z",
     "shell.execute_reply": "2023-10-10T14:02:01.634441Z"
    },
    "papermill": {
     "duration": 0.228204,
     "end_time": "2023-10-10T14:02:01.637369",
     "exception": false,
     "start_time": "2023-10-10T14:02:01.409165",
     "status": "completed"
    },
    "tags": []
   },
   "outputs": [],
   "source": [
    "data = tf.data.Dataset.from_tensor_slices((X_train, y_train))"
   ]
  },
  {
   "cell_type": "markdown",
   "id": "2aacb957",
   "metadata": {
    "papermill": {
     "duration": 0.005562,
     "end_time": "2023-10-10T14:02:01.648815",
     "exception": false,
     "start_time": "2023-10-10T14:02:01.643253",
     "status": "completed"
    },
    "tags": []
   },
   "source": [
    "This is the final training loop (without validation)."
   ]
  },
  {
   "cell_type": "code",
   "execution_count": 14,
   "id": "93e9906d",
   "metadata": {
    "execution": {
     "iopub.execute_input": "2023-10-10T14:02:01.662000Z",
     "iopub.status.busy": "2023-10-10T14:02:01.661216Z",
     "iopub.status.idle": "2023-10-10T14:02:01.668283Z",
     "shell.execute_reply": "2023-10-10T14:02:01.667354Z"
    },
    "papermill": {
     "duration": 0.015649,
     "end_time": "2023-10-10T14:02:01.669966",
     "exception": false,
     "start_time": "2023-10-10T14:02:01.654317",
     "status": "completed"
    },
    "tags": []
   },
   "outputs": [
    {
     "data": {
      "text/plain": [
       "'\\n# Training loop\\ndata = data.shuffle(buffer_size = len(X_train), reshuffle_each_iteration = True, \\n                          seed = 10)\\n\\nfor epoch in range(1, EPOCHS+1):\\n    \\n    dataset = data.batch(batch_size, drop_remainder = False)\\n    loss = 0\\n    \\n    for X_batch, y_batch in dataset:\\n        loss += train_step(X_batch, y_batch) * len(X_batch)\\n        \\n    loss /= len(X_train)\\n\\n    val_loss = test_step(X_valid, y_valid)\\n    val_accuracy = (np.argmax(model(X_valid), 1) == np.array(y_valid)).mean()  \\n    \\n    print(f\"Epoch {epoch}/{EPOCHS}: loss: {loss}, val_loss: {val_loss}, val_accuracy: {val_accuracy}\")\\n'"
      ]
     },
     "execution_count": 14,
     "metadata": {},
     "output_type": "execute_result"
    }
   ],
   "source": [
    "\"\"\"\n",
    "# Training loop\n",
    "data = data.shuffle(buffer_size = len(X_train), reshuffle_each_iteration = True, \n",
    "                          seed = 10)\n",
    "\n",
    "for epoch in range(1, EPOCHS+1):\n",
    "    \n",
    "    dataset = data.batch(batch_size, drop_remainder = False)\n",
    "    loss = 0\n",
    "    \n",
    "    for X_batch, y_batch in dataset:\n",
    "        loss += train_step(X_batch, y_batch) * len(X_batch)\n",
    "        \n",
    "    loss /= len(X_train)\n",
    "\n",
    "    val_loss = test_step(X_valid, y_valid)\n",
    "    val_accuracy = (np.argmax(model(X_valid), 1) == np.array(y_valid)).mean()  \n",
    "    \n",
    "    print(f\"Epoch {epoch}/{EPOCHS}: loss: {loss}, val_loss: {val_loss}, val_accuracy: {val_accuracy}\")\n",
    "\"\"\""
   ]
  },
  {
   "cell_type": "code",
   "execution_count": 15,
   "id": "f8262d2c",
   "metadata": {
    "execution": {
     "iopub.execute_input": "2023-10-10T14:02:01.683246Z",
     "iopub.status.busy": "2023-10-10T14:02:01.682469Z",
     "iopub.status.idle": "2023-10-10T14:03:32.092222Z",
     "shell.execute_reply": "2023-10-10T14:03:32.091245Z"
    },
    "papermill": {
     "duration": 90.418953,
     "end_time": "2023-10-10T14:03:32.094998",
     "exception": false,
     "start_time": "2023-10-10T14:02:01.676045",
     "status": "completed"
    },
    "tags": []
   },
   "outputs": [
    {
     "name": "stderr",
     "output_type": "stream",
     "text": [
      "2023-10-10 14:02:03.135009: E tensorflow/core/grappler/optimizers/meta_optimizer.cc:954] layout failed: INVALID_ARGUMENT: Size of values 0 does not match size of permutation 4 @ fanin shape inmnist/dropout/dropout/SelectV2-2-TransposeNHWCToNCHW-LayoutOptimizer\n",
      "2023-10-10 14:02:11.969494: E tensorflow/core/grappler/optimizers/meta_optimizer.cc:954] layout failed: INVALID_ARGUMENT: Size of values 0 does not match size of permutation 4 @ fanin shape inmnist/dropout/dropout/SelectV2-2-TransposeNHWCToNCHW-LayoutOptimizer\n"
     ]
    },
    {
     "name": "stdout",
     "output_type": "stream",
     "text": [
      "Epoch 1/60: loss: 0.6307777166366577\n",
      "Epoch 2/60: loss: 0.22487246990203857\n",
      "Epoch 3/60: loss: 0.1729326695203781\n",
      "Epoch 4/60: loss: 0.14389683306217194\n",
      "Epoch 5/60: loss: 0.12448529154062271\n",
      "Epoch 6/60: loss: 0.11341114342212677\n",
      "Epoch 7/60: loss: 0.10043438524007797\n",
      "Epoch 8/60: loss: 0.0960288867354393\n",
      "Epoch 9/60: loss: 0.08561380952596664\n",
      "Epoch 10/60: loss: 0.08317659795284271\n",
      "Epoch 11/60: loss: 0.07709866017103195\n",
      "Epoch 12/60: loss: 0.0753130316734314\n",
      "Epoch 13/60: loss: 0.06821028143167496\n",
      "Epoch 14/60: loss: 0.0685848593711853\n",
      "Epoch 15/60: loss: 0.06433049589395523\n",
      "Epoch 16/60: loss: 0.06206301227211952\n",
      "Epoch 17/60: loss: 0.06307241320610046\n",
      "Epoch 18/60: loss: 0.05918753892183304\n",
      "Epoch 19/60: loss: 0.05919317156076431\n",
      "Epoch 20/60: loss: 0.053920961916446686\n",
      "Epoch 21/60: loss: 0.055438581854104996\n",
      "Epoch 22/60: loss: 0.053883109241724014\n",
      "Epoch 23/60: loss: 0.05244332551956177\n",
      "Epoch 24/60: loss: 0.051271095871925354\n",
      "Epoch 25/60: loss: 0.049846284091472626\n",
      "Epoch 26/60: loss: 0.050476882606744766\n",
      "Epoch 27/60: loss: 0.04839751496911049\n",
      "Epoch 28/60: loss: 0.04634326696395874\n",
      "Epoch 29/60: loss: 0.04696429520845413\n",
      "Epoch 30/60: loss: 0.04607933387160301\n",
      "Epoch 31/60: loss: 0.044216446578502655\n",
      "Epoch 32/60: loss: 0.044820334762334824\n",
      "Epoch 33/60: loss: 0.044883035123348236\n",
      "Epoch 34/60: loss: 0.04260217025876045\n",
      "Epoch 35/60: loss: 0.043510761111974716\n",
      "Epoch 36/60: loss: 0.0420043058693409\n",
      "Epoch 37/60: loss: 0.04435372352600098\n",
      "Epoch 38/60: loss: 0.04047883674502373\n",
      "Epoch 39/60: loss: 0.041754405945539474\n",
      "Epoch 40/60: loss: 0.04222584888339043\n",
      "Epoch 41/60: loss: 0.03947175666689873\n",
      "Epoch 42/60: loss: 0.03983410447835922\n",
      "Epoch 43/60: loss: 0.0404505729675293\n",
      "Epoch 44/60: loss: 0.04048405960202217\n",
      "Epoch 45/60: loss: 0.04047654941678047\n",
      "Epoch 46/60: loss: 0.03796091303229332\n",
      "Epoch 47/60: loss: 0.03857297822833061\n",
      "Epoch 48/60: loss: 0.03998270258307457\n",
      "Epoch 49/60: loss: 0.03934997320175171\n",
      "Epoch 50/60: loss: 0.03795095160603523\n",
      "Epoch 51/60: loss: 0.03848084434866905\n",
      "Epoch 52/60: loss: 0.03780551627278328\n",
      "Epoch 53/60: loss: 0.040937479585409164\n",
      "Epoch 54/60: loss: 0.037437211722135544\n",
      "Epoch 55/60: loss: 0.03791193664073944\n",
      "Epoch 56/60: loss: 0.03882218152284622\n",
      "Epoch 57/60: loss: 0.03692373260855675\n",
      "Epoch 58/60: loss: 0.03784005716443062\n",
      "Epoch 59/60: loss: 0.03656599670648575\n",
      "Epoch 60/60: loss: 0.03878937289118767\n"
     ]
    }
   ],
   "source": [
    "for epoch in range(EPOCHS):\n",
    "\n",
    "    dataset = data.batch(batch_size, drop_remainder = False)\n",
    "    loss = 0\n",
    "    \n",
    "    for X_batch, y_batch in dataset: \n",
    "        loss += train_step(X_batch, y_batch)*len(X_batch)\n",
    "        \n",
    "    loss /= len(X)\n",
    "    print(f\"Epoch {epoch+1}/{EPOCHS}: loss: {loss}\")"
   ]
  },
  {
   "cell_type": "markdown",
   "id": "584345b7",
   "metadata": {
    "papermill": {
     "duration": 0.015936,
     "end_time": "2023-10-10T14:03:32.127345",
     "exception": false,
     "start_time": "2023-10-10T14:03:32.111409",
     "status": "completed"
    },
    "tags": []
   },
   "source": [
    "Putting the model in inference mode and passing the test data in batches to support GPU's memory limitations and then creating a submission that complies to the kaggle competition format."
   ]
  },
  {
   "cell_type": "code",
   "execution_count": 16,
   "id": "9647dd0a",
   "metadata": {
    "execution": {
     "iopub.execute_input": "2023-10-10T14:03:32.160721Z",
     "iopub.status.busy": "2023-10-10T14:03:32.160249Z",
     "iopub.status.idle": "2023-10-10T14:03:34.004793Z",
     "shell.execute_reply": "2023-10-10T14:03:34.003797Z"
    },
    "papermill": {
     "duration": 1.864078,
     "end_time": "2023-10-10T14:03:34.007472",
     "exception": false,
     "start_time": "2023-10-10T14:03:32.143394",
     "status": "completed"
    },
    "tags": []
   },
   "outputs": [],
   "source": [
    "model.training = False\n",
    "y_pred = []\n",
    "\n",
    "for i in range(0, len(X_test)-100+1, 100):\n",
    "    partial = np.argmax(model(X_test[i:i+100]), axis = 1)\n",
    "    y_pred.append(partial)\n",
    "    \n",
    "y_pred = np.array(y_pred).reshape(-1)"
   ]
  },
  {
   "cell_type": "code",
   "execution_count": 17,
   "id": "f757e33d",
   "metadata": {
    "execution": {
     "iopub.execute_input": "2023-10-10T14:03:34.026927Z",
     "iopub.status.busy": "2023-10-10T14:03:34.026619Z",
     "iopub.status.idle": "2023-10-10T14:03:34.189756Z",
     "shell.execute_reply": "2023-10-10T14:03:34.188817Z"
    },
    "papermill": {
     "duration": 0.174368,
     "end_time": "2023-10-10T14:03:34.191634",
     "exception": false,
     "start_time": "2023-10-10T14:03:34.017266",
     "status": "completed"
    },
    "tags": []
   },
   "outputs": [],
   "source": [
    "image_id = np.arange(start = 1, stop = y_pred.shape[0]+1)\n",
    "\n",
    "submission = pd.DataFrame(zip(image_id,y_pred), columns = [\"ImageId\",\"label\"])\n",
    "submission.set_index(\"ImageId\",inplace = True)\n",
    "submission.to_csv(\"submission.csv\")"
   ]
  }
 ],
 "metadata": {
  "kernelspec": {
   "display_name": "Python 3",
   "language": "python",
   "name": "python3"
  },
  "language_info": {
   "codemirror_mode": {
    "name": "ipython",
    "version": 3
   },
   "file_extension": ".py",
   "mimetype": "text/x-python",
   "name": "python",
   "nbconvert_exporter": "python",
   "pygments_lexer": "ipython3",
   "version": "3.10.12"
  },
  "papermill": {
   "default_parameters": {},
   "duration": 118.479863,
   "end_time": "2023-10-10T14:03:37.129325",
   "environment_variables": {},
   "exception": null,
   "input_path": "__notebook__.ipynb",
   "output_path": "__notebook__.ipynb",
   "parameters": {},
   "start_time": "2023-10-10T14:01:38.649462",
   "version": "2.4.0"
  }
 },
 "nbformat": 4,
 "nbformat_minor": 5
}
