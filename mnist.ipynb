{
 "cells": [
  {
   "cell_type": "code",
   "execution_count": 1,
   "id": "4c9753d0",
   "metadata": {
    "_cell_guid": "b1076dfc-b9ad-4769-8c92-a6c4dae69d19",
    "_uuid": "8f2839f25d086af736a60e9eeb907d3b93b6e0e5",
    "execution": {
     "iopub.execute_input": "2023-10-10T14:06:38.563668Z",
     "iopub.status.busy": "2023-10-10T14:06:38.562720Z",
     "iopub.status.idle": "2023-10-10T14:06:46.191412Z",
     "shell.execute_reply": "2023-10-10T14:06:46.190046Z"
    },
    "papermill": {
     "duration": 7.635949,
     "end_time": "2023-10-10T14:06:46.193313",
     "exception": false,
     "start_time": "2023-10-10T14:06:38.557364",
     "status": "completed"
    },
    "tags": []
   },
   "outputs": [
    {
     "name": "stderr",
     "output_type": "stream",
     "text": [
      "/opt/conda/lib/python3.10/site-packages/scipy/__init__.py:146: UserWarning: A NumPy version >=1.16.5 and <1.23.0 is required for this version of SciPy (detected version 1.23.5\n",
      "  warnings.warn(f\"A NumPy version >={np_minversion} and <{np_maxversion}\"\n",
      "/opt/conda/lib/python3.10/site-packages/tensorflow_io/python/ops/__init__.py:98: UserWarning: unable to load libtensorflow_io_plugins.so: unable to open file: libtensorflow_io_plugins.so, from paths: ['/opt/conda/lib/python3.10/site-packages/tensorflow_io/python/ops/libtensorflow_io_plugins.so']\n",
      "caused by: ['/opt/conda/lib/python3.10/site-packages/tensorflow_io/python/ops/libtensorflow_io_plugins.so: undefined symbol: _ZN3tsl6StatusC1EN10tensorflow5error4CodeESt17basic_string_viewIcSt11char_traitsIcEENS_14SourceLocationE']\n",
      "  warnings.warn(f\"unable to load libtensorflow_io_plugins.so: {e}\")\n",
      "/opt/conda/lib/python3.10/site-packages/tensorflow_io/python/ops/__init__.py:104: UserWarning: file system plugins are not loaded: unable to open file: libtensorflow_io.so, from paths: ['/opt/conda/lib/python3.10/site-packages/tensorflow_io/python/ops/libtensorflow_io.so']\n",
      "caused by: ['/opt/conda/lib/python3.10/site-packages/tensorflow_io/python/ops/libtensorflow_io.so: undefined symbol: _ZTVN10tensorflow13GcsFileSystemE']\n",
      "  warnings.warn(f\"file system plugins are not loaded: {e}\")\n"
     ]
    },
    {
     "name": "stdout",
     "output_type": "stream",
     "text": [
      "/kaggle/input/digit-recognizer/sample_submission.csv\n",
      "/kaggle/input/digit-recognizer/train.csv\n",
      "/kaggle/input/digit-recognizer/test.csv\n"
     ]
    }
   ],
   "source": [
    "# This Python 3 environment comes with many helpful analytics libraries installed\n",
    "# It is defined by the kaggle/python Docker image: https://github.com/kaggle/docker-python\n",
    "# For example, here's several helpful packages to load\n",
    "\n",
    "import numpy as np # linear algebra\n",
    "import pandas as pd # data processing, CSV file I/O (e.g. pd.read_csv)\n",
    "import tensorflow as tf\n",
    "from tensorflow.keras.layers import Dense, Flatten, Conv2D, Dropout\n",
    "from tensorflow.keras import Model\n",
    "\n",
    "# Input data files are available in the read-only \"../input/\" directory\n",
    "# For example, running this (by clicking run or pressing Shift+Enter) will list all files under the input directory\n",
    "\n",
    "import os\n",
    "for dirname, _, filenames in os.walk('/kaggle/input'):\n",
    "    for filename in filenames:\n",
    "        print(os.path.join(dirname, filename))\n",
    "\n",
    "# You can write up to 20GB to the current directory (/kaggle/working/) that gets preserved as output when you create a version using \"Save & Run All\" \n",
    "# You can also write temporary files to /kaggle/temp/, but they won't be saved outside of the current session"
   ]
  },
  {
   "cell_type": "markdown",
   "id": "9fa226b3",
   "metadata": {
    "papermill": {
     "duration": 0.003632,
     "end_time": "2023-10-10T14:06:46.200826",
     "exception": false,
     "start_time": "2023-10-10T14:06:46.197194",
     "status": "completed"
    },
    "tags": []
   },
   "source": [
    "# Importing data"
   ]
  },
  {
   "cell_type": "code",
   "execution_count": 2,
   "id": "babd5ad6",
   "metadata": {
    "execution": {
     "iopub.execute_input": "2023-10-10T14:06:46.209242Z",
     "iopub.status.busy": "2023-10-10T14:06:46.208683Z",
     "iopub.status.idle": "2023-10-10T14:06:50.557615Z",
     "shell.execute_reply": "2023-10-10T14:06:50.556657Z"
    },
    "papermill": {
     "duration": 4.355552,
     "end_time": "2023-10-10T14:06:50.559827",
     "exception": false,
     "start_time": "2023-10-10T14:06:46.204275",
     "status": "completed"
    },
    "tags": []
   },
   "outputs": [],
   "source": [
    "train_data = pd.read_csv(\"/kaggle/input/digit-recognizer/train.csv\")\n",
    "X_test = pd.read_csv(\"/kaggle/input/digit-recognizer/test.csv\")"
   ]
  },
  {
   "cell_type": "code",
   "execution_count": 3,
   "id": "b93802c8",
   "metadata": {
    "execution": {
     "iopub.execute_input": "2023-10-10T14:06:50.569313Z",
     "iopub.status.busy": "2023-10-10T14:06:50.568485Z",
     "iopub.status.idle": "2023-10-10T14:06:50.655587Z",
     "shell.execute_reply": "2023-10-10T14:06:50.654673Z"
    },
    "papermill": {
     "duration": 0.094474,
     "end_time": "2023-10-10T14:06:50.658380",
     "exception": false,
     "start_time": "2023-10-10T14:06:50.563906",
     "status": "completed"
    },
    "tags": []
   },
   "outputs": [],
   "source": [
    "y = train_data[\"label\"]\n",
    "X = train_data.drop(\"label\", axis = 1)"
   ]
  },
  {
   "cell_type": "markdown",
   "id": "c3874ee7",
   "metadata": {
    "papermill": {
     "duration": 0.003628,
     "end_time": "2023-10-10T14:06:50.665934",
     "exception": false,
     "start_time": "2023-10-10T14:06:50.662306",
     "status": "completed"
    },
    "tags": []
   },
   "source": [
    "# Preprocessing"
   ]
  },
  {
   "cell_type": "markdown",
   "id": "8d61cdb2",
   "metadata": {
    "papermill": {
     "duration": 0.003486,
     "end_time": "2023-10-10T14:06:50.673032",
     "exception": false,
     "start_time": "2023-10-10T14:06:50.669546",
     "status": "completed"
    },
    "tags": []
   },
   "source": [
    "The data is 784 pixels (28*28) and it's in grayscale so the input to the model is going to be 28 * 28 * 1 as it only has one channel.\n",
    "It also helps for the data to be between 0 and 1 instead of 0 and 255 as it helps the model converge faster and wouldn't have massive gradients at initialization."
   ]
  },
  {
   "cell_type": "code",
   "execution_count": 4,
   "id": "2fb49714",
   "metadata": {
    "execution": {
     "iopub.execute_input": "2023-10-10T14:06:50.682127Z",
     "iopub.status.busy": "2023-10-10T14:06:50.681354Z",
     "iopub.status.idle": "2023-10-10T14:06:54.075542Z",
     "shell.execute_reply": "2023-10-10T14:06:54.074610Z"
    },
    "papermill": {
     "duration": 3.400789,
     "end_time": "2023-10-10T14:06:54.077634",
     "exception": false,
     "start_time": "2023-10-10T14:06:50.676845",
     "status": "completed"
    },
    "tags": []
   },
   "outputs": [],
   "source": [
    "# Converting dataframe to tensorflow tensor then scaling the data to [0,1]\n",
    "X = tf.convert_to_tensor(X, tf.float64) / 255.0\n",
    "X_test = tf.convert_to_tensor(X_test, tf.float64) / 255.0\n",
    "y = tf.convert_to_tensor(y)\n",
    "X = tf.reshape(X, (-1, 28, 28, 1))\n",
    "X_test = tf.reshape(X_test, (-1,28,28,1))"
   ]
  },
  {
   "cell_type": "code",
   "execution_count": 5,
   "id": "015878d9",
   "metadata": {
    "execution": {
     "iopub.execute_input": "2023-10-10T14:06:54.086657Z",
     "iopub.status.busy": "2023-10-10T14:06:54.086397Z",
     "iopub.status.idle": "2023-10-10T14:06:54.102507Z",
     "shell.execute_reply": "2023-10-10T14:06:54.101670Z"
    },
    "papermill": {
     "duration": 0.022496,
     "end_time": "2023-10-10T14:06:54.104193",
     "exception": false,
     "start_time": "2023-10-10T14:06:54.081697",
     "status": "completed"
    },
    "tags": []
   },
   "outputs": [],
   "source": [
    "n1 = int(X.shape[0]*.9)\n",
    "X_train, y_train = X[:n1], y[:n1]\n",
    "X_valid, y_valid = X[n1:], y[n1:]"
   ]
  },
  {
   "cell_type": "markdown",
   "id": "0d4ff210",
   "metadata": {
    "papermill": {
     "duration": 0.003426,
     "end_time": "2023-10-10T14:06:54.111288",
     "exception": false,
     "start_time": "2023-10-10T14:06:54.107862",
     "status": "completed"
    },
    "tags": []
   },
   "source": [
    "# Model training"
   ]
  },
  {
   "cell_type": "markdown",
   "id": "56ade604",
   "metadata": {
    "papermill": {
     "duration": 0.003534,
     "end_time": "2023-10-10T14:06:54.118560",
     "exception": false,
     "start_time": "2023-10-10T14:06:54.115026",
     "status": "completed"
    },
    "tags": []
   },
   "source": [
    "A basic CNN with 2 conv layers and 2 hidden layers, I use dropout on every single layer with p = 0.3 except for the input where I have found that it hinders performance. \n",
    "\n",
    "There is some data augmentation as well with a random rotation below 10° and a random translation between 0 and .1 in both dimensions.\n"
   ]
  },
  {
   "cell_type": "code",
   "execution_count": 6,
   "id": "23d17963",
   "metadata": {
    "execution": {
     "iopub.execute_input": "2023-10-10T14:06:54.127281Z",
     "iopub.status.busy": "2023-10-10T14:06:54.126637Z",
     "iopub.status.idle": "2023-10-10T14:06:54.130571Z",
     "shell.execute_reply": "2023-10-10T14:06:54.129628Z"
    },
    "papermill": {
     "duration": 0.010016,
     "end_time": "2023-10-10T14:06:54.132228",
     "exception": false,
     "start_time": "2023-10-10T14:06:54.122212",
     "status": "completed"
    },
    "tags": []
   },
   "outputs": [],
   "source": [
    "kernel_size  = 3\n",
    "dropout_rate = .3\n",
    "pool_size = (2, 2)"
   ]
  },
  {
   "cell_type": "code",
   "execution_count": 7,
   "id": "01267977",
   "metadata": {
    "execution": {
     "iopub.execute_input": "2023-10-10T14:06:54.140589Z",
     "iopub.status.busy": "2023-10-10T14:06:54.140367Z",
     "iopub.status.idle": "2023-10-10T14:06:54.147444Z",
     "shell.execute_reply": "2023-10-10T14:06:54.146590Z"
    },
    "papermill": {
     "duration": 0.013166,
     "end_time": "2023-10-10T14:06:54.149084",
     "exception": false,
     "start_time": "2023-10-10T14:06:54.135918",
     "status": "completed"
    },
    "tags": []
   },
   "outputs": [],
   "source": [
    "class MNIST(Model):\n",
    "    def __init__(self):\n",
    "        super().__init__()\n",
    "        self.training = True\n",
    "        \n",
    "        # Data augmentation\n",
    "        self.translate = tf.keras.layers.RandomTranslation(.1, .1)\n",
    "        self.rotate = tf.keras.layers.RandomRotation(.03)\n",
    "        \n",
    "        self.conv1 = Conv2D(64, kernel_size, activation = \"relu\")\n",
    "        self.dropout1 = Dropout(dropout_rate)\n",
    "        \n",
    "        self.conv2 = Conv2D(30, kernel_size, activation = \"relu\")\n",
    "        self.flatten = Flatten()\n",
    "        self.dropout2 = Dropout(dropout_rate)\n",
    "        \n",
    "        self.ln1 = Dense(1024, activation = \"relu\")\n",
    "        self.dropout3 = Dropout(dropout_rate)\n",
    "        \n",
    "        self.ln2 = Dense(2048, activation = \"relu\")\n",
    "        self.dropout4 = Dropout(dropout_rate)\n",
    "        \n",
    "        self.out = Dense(10)\n",
    "        \n",
    "    def call(self, x):\n",
    "            \n",
    "        x = self.translate(x, training = self.training)\n",
    "        x = self.rotate(x, training = self.training)\n",
    "        \n",
    "        x = self.conv1(x)\n",
    "        x = self.dropout1(x, training = self.training)\n",
    "        \n",
    "        x = self.conv2(x)\n",
    "        x = self.dropout2(x, training = self.training)\n",
    "        x = self.flatten(x)\n",
    "        \n",
    "        x = self.ln1(x)\n",
    "        x = self.dropout3(x, training = self.training)\n",
    "        \n",
    "        x = self.ln2(x)\n",
    "        x = self.dropout4(x, training = self.training)\n",
    "        \n",
    "        out = self.out(x)\n",
    "        \n",
    "        return out"
   ]
  },
  {
   "cell_type": "code",
   "execution_count": 8,
   "id": "fea233b8",
   "metadata": {
    "execution": {
     "iopub.execute_input": "2023-10-10T14:06:54.157876Z",
     "iopub.status.busy": "2023-10-10T14:06:54.157152Z",
     "iopub.status.idle": "2023-10-10T14:06:54.429599Z",
     "shell.execute_reply": "2023-10-10T14:06:54.428772Z"
    },
    "papermill": {
     "duration": 0.294707,
     "end_time": "2023-10-10T14:06:54.447481",
     "exception": false,
     "start_time": "2023-10-10T14:06:54.152774",
     "status": "completed"
    },
    "tags": []
   },
   "outputs": [
    {
     "name": "stdout",
     "output_type": "stream",
     "text": [
      "Model: \"mnist\"\n",
      "_________________________________________________________________\n",
      " Layer (type)                Output Shape              Param #   \n",
      "=================================================================\n",
      " random_translation (RandomT  multiple                 0         \n",
      " ranslation)                                                     \n",
      "                                                                 \n",
      " random_rotation (RandomRota  multiple                 0         \n",
      " tion)                                                           \n",
      "                                                                 \n",
      " conv2d (Conv2D)             multiple                  640       \n",
      "                                                                 \n",
      " dropout (Dropout)           multiple                  0         \n",
      "                                                                 \n",
      " conv2d_1 (Conv2D)           multiple                  17310     \n",
      "                                                                 \n",
      " flatten (Flatten)           multiple                  0         \n",
      "                                                                 \n",
      " dropout_1 (Dropout)         multiple                  0         \n",
      "                                                                 \n",
      " dense (Dense)               multiple                  17695744  \n",
      "                                                                 \n",
      " dropout_2 (Dropout)         multiple                  0         \n",
      "                                                                 \n",
      " dense_1 (Dense)             multiple                  2099200   \n",
      "                                                                 \n",
      " dropout_3 (Dropout)         multiple                  0         \n",
      "                                                                 \n",
      " dense_2 (Dense)             multiple                  20490     \n",
      "                                                                 \n",
      "=================================================================\n",
      "Total params: 19,833,384\n",
      "Trainable params: 19,833,384\n",
      "Non-trainable params: 0\n",
      "_________________________________________________________________\n"
     ]
    }
   ],
   "source": [
    "model= MNIST()\n",
    "model.build((None, 28, 28, 1))\n",
    "model.summary()"
   ]
  },
  {
   "cell_type": "markdown",
   "id": "e154280f",
   "metadata": {
    "papermill": {
     "duration": 0.005062,
     "end_time": "2023-10-10T14:06:54.458190",
     "exception": false,
     "start_time": "2023-10-10T14:06:54.453128",
     "status": "completed"
    },
    "tags": []
   },
   "source": [
    "The dropout paper claims that decaying learning rate works best for NNs with dropout so that's why I chose exponential decay. As for the actual values, several were tested and this seemed to work best."
   ]
  },
  {
   "cell_type": "code",
   "execution_count": 9,
   "id": "4ca2c5c8",
   "metadata": {
    "execution": {
     "iopub.execute_input": "2023-10-10T14:06:54.469546Z",
     "iopub.status.busy": "2023-10-10T14:06:54.469287Z",
     "iopub.status.idle": "2023-10-10T14:06:54.487505Z",
     "shell.execute_reply": "2023-10-10T14:06:54.486687Z"
    },
    "papermill": {
     "duration": 0.025867,
     "end_time": "2023-10-10T14:06:54.489189",
     "exception": false,
     "start_time": "2023-10-10T14:06:54.463322",
     "status": "completed"
    },
    "tags": []
   },
   "outputs": [],
   "source": [
    "lr = tf.keras.optimizers.schedules.ExponentialDecay(5e-4, 500, .9)\n",
    "optimizer = tf.keras.optimizers.Adam(lr)\n",
    "loss_fn = tf.keras.losses.SparseCategoricalCrossentropy(from_logits = True)"
   ]
  },
  {
   "cell_type": "markdown",
   "id": "387d7cc1",
   "metadata": {
    "papermill": {
     "duration": 0.005047,
     "end_time": "2023-10-10T14:06:54.499499",
     "exception": false,
     "start_time": "2023-10-10T14:06:54.494452",
     "status": "completed"
    },
    "tags": []
   },
   "source": [
    "I use the training and testing steps straight from the tensorflow docs with minor changes."
   ]
  },
  {
   "cell_type": "code",
   "execution_count": 10,
   "id": "c3b3a90a",
   "metadata": {
    "execution": {
     "iopub.execute_input": "2023-10-10T14:06:54.511190Z",
     "iopub.status.busy": "2023-10-10T14:06:54.510500Z",
     "iopub.status.idle": "2023-10-10T14:06:54.515931Z",
     "shell.execute_reply": "2023-10-10T14:06:54.515180Z"
    },
    "papermill": {
     "duration": 0.01301,
     "end_time": "2023-10-10T14:06:54.517628",
     "exception": false,
     "start_time": "2023-10-10T14:06:54.504618",
     "status": "completed"
    },
    "tags": []
   },
   "outputs": [],
   "source": [
    "@tf.function\n",
    "def train_step(X:tf.Tensor, y:tf.Tensor):\n",
    "    model.training = True\n",
    "    \n",
    "    with tf.GradientTape() as tape:\n",
    "        predictions = model(X)\n",
    "        loss = loss_fn(y, predictions)\n",
    "    \n",
    "    gradients = tape.gradient(loss, model.trainable_variables)\n",
    "    optimizer.apply_gradients(zip(gradients, model.trainable_variables))\n",
    "    \n",
    "    return loss"
   ]
  },
  {
   "cell_type": "code",
   "execution_count": 11,
   "id": "2a875695",
   "metadata": {
    "execution": {
     "iopub.execute_input": "2023-10-10T14:06:54.529774Z",
     "iopub.status.busy": "2023-10-10T14:06:54.529005Z",
     "iopub.status.idle": "2023-10-10T14:06:54.533681Z",
     "shell.execute_reply": "2023-10-10T14:06:54.532952Z"
    },
    "papermill": {
     "duration": 0.012278,
     "end_time": "2023-10-10T14:06:54.535348",
     "exception": false,
     "start_time": "2023-10-10T14:06:54.523070",
     "status": "completed"
    },
    "tags": []
   },
   "outputs": [],
   "source": [
    "@tf.function\n",
    "def test_step(images, labels):\n",
    "    model.training = False\n",
    "    predictions = model(images)\n",
    "    loss = loss_fn(labels, predictions)\n",
    "    return loss"
   ]
  },
  {
   "cell_type": "markdown",
   "id": "966aed2e",
   "metadata": {
    "papermill": {
     "duration": 0.00508,
     "end_time": "2023-10-10T14:06:54.545601",
     "exception": false,
     "start_time": "2023-10-10T14:06:54.540521",
     "status": "completed"
    },
    "tags": []
   },
   "source": [
    "I used a fairly typical training loop."
   ]
  },
  {
   "cell_type": "code",
   "execution_count": 12,
   "id": "09e5750c",
   "metadata": {
    "execution": {
     "iopub.execute_input": "2023-10-10T14:06:54.557164Z",
     "iopub.status.busy": "2023-10-10T14:06:54.556828Z",
     "iopub.status.idle": "2023-10-10T14:06:54.560504Z",
     "shell.execute_reply": "2023-10-10T14:06:54.559597Z"
    },
    "papermill": {
     "duration": 0.011185,
     "end_time": "2023-10-10T14:06:54.562131",
     "exception": false,
     "start_time": "2023-10-10T14:06:54.550946",
     "status": "completed"
    },
    "tags": []
   },
   "outputs": [],
   "source": [
    "batch_size = 128\n",
    "EPOCHS = 60"
   ]
  },
  {
   "cell_type": "code",
   "execution_count": 13,
   "id": "edb99c6e",
   "metadata": {
    "execution": {
     "iopub.execute_input": "2023-10-10T14:06:54.574020Z",
     "iopub.status.busy": "2023-10-10T14:06:54.573533Z",
     "iopub.status.idle": "2023-10-10T14:06:54.791946Z",
     "shell.execute_reply": "2023-10-10T14:06:54.791098Z"
    },
    "papermill": {
     "duration": 0.226142,
     "end_time": "2023-10-10T14:06:54.793760",
     "exception": false,
     "start_time": "2023-10-10T14:06:54.567618",
     "status": "completed"
    },
    "tags": []
   },
   "outputs": [],
   "source": [
    "data = tf.data.Dataset.from_tensor_slices((X_train, y_train))"
   ]
  },
  {
   "cell_type": "markdown",
   "id": "d73dced6",
   "metadata": {
    "papermill": {
     "duration": 0.005223,
     "end_time": "2023-10-10T14:06:54.804467",
     "exception": false,
     "start_time": "2023-10-10T14:06:54.799244",
     "status": "completed"
    },
    "tags": []
   },
   "source": [
    "This is the final training loop (without validation)."
   ]
  },
  {
   "cell_type": "code",
   "execution_count": 14,
   "id": "112754e7",
   "metadata": {
    "execution": {
     "iopub.execute_input": "2023-10-10T14:06:54.815928Z",
     "iopub.status.busy": "2023-10-10T14:06:54.815657Z",
     "iopub.status.idle": "2023-10-10T14:06:54.822024Z",
     "shell.execute_reply": "2023-10-10T14:06:54.821163Z"
    },
    "papermill": {
     "duration": 0.013932,
     "end_time": "2023-10-10T14:06:54.823601",
     "exception": false,
     "start_time": "2023-10-10T14:06:54.809669",
     "status": "completed"
    },
    "tags": []
   },
   "outputs": [
    {
     "data": {
      "text/plain": [
       "'\\n# Training loop\\ndata = data.shuffle(buffer_size = len(X_train), reshuffle_each_iteration = True, \\n                          seed = 10)\\n\\nfor epoch in range(1, EPOCHS+1):\\n    \\n    dataset = data.batch(batch_size, drop_remainder = False)\\n    loss = 0\\n    \\n    for X_batch, y_batch in dataset:\\n        loss += train_step(X_batch, y_batch) * len(X_batch)\\n        \\n    loss /= len(X_train)\\n\\n    val_loss = test_step(X_valid, y_valid)\\n    val_accuracy = (np.argmax(model(X_valid), 1) == np.array(y_valid)).mean()  \\n    \\n    print(f\"Epoch {epoch}/{EPOCHS}: loss: {loss}, val_loss: {val_loss}, val_accuracy: {val_accuracy}\")\\n'"
      ]
     },
     "execution_count": 14,
     "metadata": {},
     "output_type": "execute_result"
    }
   ],
   "source": [
    "\"\"\"\n",
    "# Training loop\n",
    "data = data.shuffle(buffer_size = len(X_train), reshuffle_each_iteration = True, \n",
    "                          seed = 10)\n",
    "\n",
    "for epoch in range(1, EPOCHS+1):\n",
    "    \n",
    "    dataset = data.batch(batch_size, drop_remainder = False)\n",
    "    loss = 0\n",
    "    \n",
    "    for X_batch, y_batch in dataset:\n",
    "        loss += train_step(X_batch, y_batch) * len(X_batch)\n",
    "        \n",
    "    loss /= len(X_train)\n",
    "\n",
    "    val_loss = test_step(X_valid, y_valid)\n",
    "    val_accuracy = (np.argmax(model(X_valid), 1) == np.array(y_valid)).mean()  \n",
    "    \n",
    "    print(f\"Epoch {epoch}/{EPOCHS}: loss: {loss}, val_loss: {val_loss}, val_accuracy: {val_accuracy}\")\n",
    "\"\"\""
   ]
  },
  {
   "cell_type": "code",
   "execution_count": 15,
   "id": "79715e74",
   "metadata": {
    "execution": {
     "iopub.execute_input": "2023-10-10T14:06:54.835613Z",
     "iopub.status.busy": "2023-10-10T14:06:54.835102Z",
     "iopub.status.idle": "2023-10-10T14:09:37.213214Z",
     "shell.execute_reply": "2023-10-10T14:09:37.211810Z"
    },
    "papermill": {
     "duration": 162.385958,
     "end_time": "2023-10-10T14:09:37.215049",
     "exception": false,
     "start_time": "2023-10-10T14:06:54.829091",
     "status": "completed"
    },
    "tags": []
   },
   "outputs": [
    {
     "name": "stderr",
     "output_type": "stream",
     "text": [
      "2023-10-10 14:06:56.276756: E tensorflow/core/grappler/optimizers/meta_optimizer.cc:954] layout failed: INVALID_ARGUMENT: Size of values 0 does not match size of permutation 4 @ fanin shape inmnist/dropout/dropout/SelectV2-2-TransposeNHWCToNCHW-LayoutOptimizer\n",
      "2023-10-10 14:07:07.230898: E tensorflow/core/grappler/optimizers/meta_optimizer.cc:954] layout failed: INVALID_ARGUMENT: Size of values 0 does not match size of permutation 4 @ fanin shape inmnist/dropout/dropout/SelectV2-2-TransposeNHWCToNCHW-LayoutOptimizer\n"
     ]
    },
    {
     "name": "stdout",
     "output_type": "stream",
     "text": [
      "Epoch 1/60: loss: 0.42761462926864624\n",
      "Epoch 2/60: loss: 0.24951069056987762\n",
      "Epoch 3/60: loss: 0.2502357065677643\n",
      "Epoch 4/60: loss: 0.18640469014644623\n",
      "Epoch 5/60: loss: 0.13803616166114807\n",
      "Epoch 6/60: loss: 0.10698879510164261\n",
      "Epoch 7/60: loss: 0.09141282737255096\n",
      "Epoch 8/60: loss: 0.08298040181398392\n",
      "Epoch 9/60: loss: 0.07175807654857635\n",
      "Epoch 10/60: loss: 0.07568453252315521\n",
      "Epoch 11/60: loss: 0.07800207287073135\n",
      "Epoch 12/60: loss: 0.06630610674619675\n",
      "Epoch 13/60: loss: 0.06215554103255272\n",
      "Epoch 14/60: loss: 0.05938148871064186\n",
      "Epoch 15/60: loss: 0.05795004963874817\n",
      "Epoch 16/60: loss: 0.05466991662979126\n",
      "Epoch 17/60: loss: 0.05299384519457817\n",
      "Epoch 18/60: loss: 0.046661630272865295\n",
      "Epoch 19/60: loss: 0.04739604517817497\n",
      "Epoch 20/60: loss: 0.04600931331515312\n",
      "Epoch 21/60: loss: 0.04496494308114052\n",
      "Epoch 22/60: loss: 0.039516329765319824\n",
      "Epoch 23/60: loss: 0.04086961969733238\n",
      "Epoch 24/60: loss: 0.03919905424118042\n",
      "Epoch 25/60: loss: 0.03742312639951706\n",
      "Epoch 26/60: loss: 0.03607092425227165\n",
      "Epoch 27/60: loss: 0.03731875121593475\n",
      "Epoch 28/60: loss: 0.033964063972234726\n",
      "Epoch 29/60: loss: 0.03591880574822426\n",
      "Epoch 30/60: loss: 0.03395787253975868\n",
      "Epoch 31/60: loss: 0.03215738758444786\n",
      "Epoch 32/60: loss: 0.03184795379638672\n",
      "Epoch 33/60: loss: 0.03232719376683235\n",
      "Epoch 34/60: loss: 0.030473077669739723\n",
      "Epoch 35/60: loss: 0.029779590666294098\n",
      "Epoch 36/60: loss: 0.027373068034648895\n",
      "Epoch 37/60: loss: 0.026761209592223167\n",
      "Epoch 38/60: loss: 0.026837922632694244\n",
      "Epoch 39/60: loss: 0.027389761060476303\n",
      "Epoch 40/60: loss: 0.02516099251806736\n",
      "Epoch 41/60: loss: 0.02588105946779251\n",
      "Epoch 42/60: loss: 0.026782618835568428\n",
      "Epoch 43/60: loss: 0.024969127029180527\n",
      "Epoch 44/60: loss: 0.025654247030615807\n",
      "Epoch 45/60: loss: 0.026723124086856842\n",
      "Epoch 46/60: loss: 0.023544730618596077\n",
      "Epoch 47/60: loss: 0.022953815758228302\n",
      "Epoch 48/60: loss: 0.023281823843717575\n",
      "Epoch 49/60: loss: 0.02387763373553753\n",
      "Epoch 50/60: loss: 0.022920137271285057\n",
      "Epoch 51/60: loss: 0.02270764298737049\n",
      "Epoch 52/60: loss: 0.024057133123278618\n",
      "Epoch 53/60: loss: 0.022738613188266754\n",
      "Epoch 54/60: loss: 0.02256365306675434\n",
      "Epoch 55/60: loss: 0.02197566069662571\n",
      "Epoch 56/60: loss: 0.022588688880205154\n",
      "Epoch 57/60: loss: 0.022579185664653778\n",
      "Epoch 58/60: loss: 0.022002892568707466\n",
      "Epoch 59/60: loss: 0.022636553272604942\n",
      "Epoch 60/60: loss: 0.02282821573317051\n"
     ]
    }
   ],
   "source": [
    "for epoch in range(EPOCHS):\n",
    "\n",
    "    dataset = data.batch(batch_size, drop_remainder = False)\n",
    "    loss = 0\n",
    "    \n",
    "    for X_batch, y_batch in dataset: \n",
    "        loss += train_step(X_batch, y_batch)*len(X_batch)\n",
    "        \n",
    "    loss /= len(X)\n",
    "    print(f\"Epoch {epoch+1}/{EPOCHS}: loss: {loss}\")"
   ]
  },
  {
   "cell_type": "markdown",
   "id": "db0a6b3b",
   "metadata": {
    "papermill": {
     "duration": 0.010208,
     "end_time": "2023-10-10T14:09:37.233528",
     "exception": false,
     "start_time": "2023-10-10T14:09:37.223320",
     "status": "completed"
    },
    "tags": []
   },
   "source": [
    "Putting the model in inference mode and passing the test data in batches to support GPU's memory limitations and then creating a submission that complies to the kaggle competition format."
   ]
  },
  {
   "cell_type": "code",
   "execution_count": 16,
   "id": "7e88f882",
   "metadata": {
    "execution": {
     "iopub.execute_input": "2023-10-10T14:09:37.250388Z",
     "iopub.status.busy": "2023-10-10T14:09:37.250123Z",
     "iopub.status.idle": "2023-10-10T14:09:38.808413Z",
     "shell.execute_reply": "2023-10-10T14:09:38.807492Z"
    },
    "papermill": {
     "duration": 1.56926,
     "end_time": "2023-10-10T14:09:38.810595",
     "exception": false,
     "start_time": "2023-10-10T14:09:37.241335",
     "status": "completed"
    },
    "tags": []
   },
   "outputs": [],
   "source": [
    "model.training = False\n",
    "y_pred = []\n",
    "\n",
    "for i in range(0, len(X_test)-100+1, 100):\n",
    "    partial = np.argmax(model(X_test[i:i+100]), axis = 1)\n",
    "    y_pred.append(partial)\n",
    "    \n",
    "y_pred = np.array(y_pred).reshape(-1)"
   ]
  },
  {
   "cell_type": "code",
   "execution_count": 17,
   "id": "d67deb10",
   "metadata": {
    "execution": {
     "iopub.execute_input": "2023-10-10T14:09:38.828853Z",
     "iopub.status.busy": "2023-10-10T14:09:38.828551Z",
     "iopub.status.idle": "2023-10-10T14:09:38.992142Z",
     "shell.execute_reply": "2023-10-10T14:09:38.991320Z"
    },
    "papermill": {
     "duration": 0.17485,
     "end_time": "2023-10-10T14:09:38.993860",
     "exception": false,
     "start_time": "2023-10-10T14:09:38.819010",
     "status": "completed"
    },
    "tags": []
   },
   "outputs": [],
   "source": [
    "image_id = np.arange(start = 1, stop = y_pred.shape[0]+1)\n",
    "\n",
    "submission = pd.DataFrame(zip(image_id,y_pred), columns = [\"ImageId\",\"label\"])\n",
    "submission.set_index(\"ImageId\",inplace = True)\n",
    "submission.to_csv(\"submission.csv\")"
   ]
  }
 ],
 "metadata": {
  "kernelspec": {
   "display_name": "Python 3",
   "language": "python",
   "name": "python3"
  },
  "language_info": {
   "codemirror_mode": {
    "name": "ipython",
    "version": 3
   },
   "file_extension": ".py",
   "mimetype": "text/x-python",
   "name": "python",
   "nbconvert_exporter": "python",
   "pygments_lexer": "ipython3",
   "version": "3.10.12"
  },
  "papermill": {
   "default_parameters": {},
   "duration": 191.590049,
   "end_time": "2023-10-10T14:09:42.086004",
   "environment_variables": {},
   "exception": null,
   "input_path": "__notebook__.ipynb",
   "output_path": "__notebook__.ipynb",
   "parameters": {},
   "start_time": "2023-10-10T14:06:30.495955",
   "version": "2.4.0"
  }
 },
 "nbformat": 4,
 "nbformat_minor": 5
}
