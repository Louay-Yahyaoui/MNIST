{
 "cells": [
  {
   "cell_type": "code",
   "execution_count": 1,
   "id": "7fcfdcdb",
   "metadata": {
    "_cell_guid": "b1076dfc-b9ad-4769-8c92-a6c4dae69d19",
    "_uuid": "8f2839f25d086af736a60e9eeb907d3b93b6e0e5",
    "execution": {
     "iopub.execute_input": "2023-10-10T14:14:58.385853Z",
     "iopub.status.busy": "2023-10-10T14:14:58.384854Z",
     "iopub.status.idle": "2023-10-10T14:15:05.454488Z",
     "shell.execute_reply": "2023-10-10T14:15:05.453255Z"
    },
    "papermill": {
     "duration": 7.077053,
     "end_time": "2023-10-10T14:15:05.456394",
     "exception": false,
     "start_time": "2023-10-10T14:14:58.379341",
     "status": "completed"
    },
    "tags": []
   },
   "outputs": [
    {
     "name": "stderr",
     "output_type": "stream",
     "text": [
      "/opt/conda/lib/python3.10/site-packages/scipy/__init__.py:146: UserWarning: A NumPy version >=1.16.5 and <1.23.0 is required for this version of SciPy (detected version 1.23.5\n",
      "  warnings.warn(f\"A NumPy version >={np_minversion} and <{np_maxversion}\"\n",
      "/opt/conda/lib/python3.10/site-packages/tensorflow_io/python/ops/__init__.py:98: UserWarning: unable to load libtensorflow_io_plugins.so: unable to open file: libtensorflow_io_plugins.so, from paths: ['/opt/conda/lib/python3.10/site-packages/tensorflow_io/python/ops/libtensorflow_io_plugins.so']\n",
      "caused by: ['/opt/conda/lib/python3.10/site-packages/tensorflow_io/python/ops/libtensorflow_io_plugins.so: undefined symbol: _ZN3tsl6StatusC1EN10tensorflow5error4CodeESt17basic_string_viewIcSt11char_traitsIcEENS_14SourceLocationE']\n",
      "  warnings.warn(f\"unable to load libtensorflow_io_plugins.so: {e}\")\n",
      "/opt/conda/lib/python3.10/site-packages/tensorflow_io/python/ops/__init__.py:104: UserWarning: file system plugins are not loaded: unable to open file: libtensorflow_io.so, from paths: ['/opt/conda/lib/python3.10/site-packages/tensorflow_io/python/ops/libtensorflow_io.so']\n",
      "caused by: ['/opt/conda/lib/python3.10/site-packages/tensorflow_io/python/ops/libtensorflow_io.so: undefined symbol: _ZTVN10tensorflow13GcsFileSystemE']\n",
      "  warnings.warn(f\"file system plugins are not loaded: {e}\")\n"
     ]
    },
    {
     "name": "stdout",
     "output_type": "stream",
     "text": [
      "/kaggle/input/digit-recognizer/sample_submission.csv\n",
      "/kaggle/input/digit-recognizer/train.csv\n",
      "/kaggle/input/digit-recognizer/test.csv\n"
     ]
    }
   ],
   "source": [
    "# This Python 3 environment comes with many helpful analytics libraries installed\n",
    "# It is defined by the kaggle/python Docker image: https://github.com/kaggle/docker-python\n",
    "# For example, here's several helpful packages to load\n",
    "\n",
    "import numpy as np # linear algebra\n",
    "import pandas as pd # data processing, CSV file I/O (e.g. pd.read_csv)\n",
    "import tensorflow as tf\n",
    "from tensorflow.keras.layers import Dense, Flatten, Conv2D, Dropout\n",
    "from tensorflow.keras import Model\n",
    "\n",
    "# Input data files are available in the read-only \"../input/\" directory\n",
    "# For example, running this (by clicking run or pressing Shift+Enter) will list all files under the input directory\n",
    "\n",
    "import os\n",
    "for dirname, _, filenames in os.walk('/kaggle/input'):\n",
    "    for filename in filenames:\n",
    "        print(os.path.join(dirname, filename))\n",
    "\n",
    "# You can write up to 20GB to the current directory (/kaggle/working/) that gets preserved as output when you create a version using \"Save & Run All\" \n",
    "# You can also write temporary files to /kaggle/temp/, but they won't be saved outside of the current session"
   ]
  },
  {
   "cell_type": "markdown",
   "id": "ca85acff",
   "metadata": {
    "papermill": {
     "duration": 0.003631,
     "end_time": "2023-10-10T14:15:05.463972",
     "exception": false,
     "start_time": "2023-10-10T14:15:05.460341",
     "status": "completed"
    },
    "tags": []
   },
   "source": [
    "# Importing data"
   ]
  },
  {
   "cell_type": "code",
   "execution_count": 2,
   "id": "1048e675",
   "metadata": {
    "execution": {
     "iopub.execute_input": "2023-10-10T14:15:05.473301Z",
     "iopub.status.busy": "2023-10-10T14:15:05.472081Z",
     "iopub.status.idle": "2023-10-10T14:15:09.721211Z",
     "shell.execute_reply": "2023-10-10T14:15:09.720099Z"
    },
    "papermill": {
     "duration": 4.255886,
     "end_time": "2023-10-10T14:15:09.723482",
     "exception": false,
     "start_time": "2023-10-10T14:15:05.467596",
     "status": "completed"
    },
    "tags": []
   },
   "outputs": [],
   "source": [
    "train_data = pd.read_csv(\"/kaggle/input/digit-recognizer/train.csv\")\n",
    "X_test = pd.read_csv(\"/kaggle/input/digit-recognizer/test.csv\")"
   ]
  },
  {
   "cell_type": "code",
   "execution_count": 3,
   "id": "a744249c",
   "metadata": {
    "execution": {
     "iopub.execute_input": "2023-10-10T14:15:09.734214Z",
     "iopub.status.busy": "2023-10-10T14:15:09.733150Z",
     "iopub.status.idle": "2023-10-10T14:15:09.821320Z",
     "shell.execute_reply": "2023-10-10T14:15:09.820329Z"
    },
    "papermill": {
     "duration": 0.095608,
     "end_time": "2023-10-10T14:15:09.823529",
     "exception": false,
     "start_time": "2023-10-10T14:15:09.727921",
     "status": "completed"
    },
    "tags": []
   },
   "outputs": [],
   "source": [
    "y = train_data[\"label\"]\n",
    "X = train_data.drop(\"label\", axis = 1)"
   ]
  },
  {
   "cell_type": "markdown",
   "id": "522e737e",
   "metadata": {
    "papermill": {
     "duration": 0.00368,
     "end_time": "2023-10-10T14:15:09.831247",
     "exception": false,
     "start_time": "2023-10-10T14:15:09.827567",
     "status": "completed"
    },
    "tags": []
   },
   "source": [
    "# Preprocessing"
   ]
  },
  {
   "cell_type": "markdown",
   "id": "4d90bb10",
   "metadata": {
    "papermill": {
     "duration": 0.003408,
     "end_time": "2023-10-10T14:15:09.838300",
     "exception": false,
     "start_time": "2023-10-10T14:15:09.834892",
     "status": "completed"
    },
    "tags": []
   },
   "source": [
    "The data is 784 pixels (28*28) and it's in grayscale so the input to the model is going to be 28 * 28 * 1 as it only has one channel.\n",
    "It also helps for the data to be between 0 and 1 instead of 0 and 255 as it helps the model converge faster and wouldn't have massive gradients at initialization."
   ]
  },
  {
   "cell_type": "code",
   "execution_count": 4,
   "id": "d5a01741",
   "metadata": {
    "execution": {
     "iopub.execute_input": "2023-10-10T14:15:09.846802Z",
     "iopub.status.busy": "2023-10-10T14:15:09.846500Z",
     "iopub.status.idle": "2023-10-10T14:15:13.171901Z",
     "shell.execute_reply": "2023-10-10T14:15:13.170936Z"
    },
    "papermill": {
     "duration": 3.332174,
     "end_time": "2023-10-10T14:15:13.174135",
     "exception": false,
     "start_time": "2023-10-10T14:15:09.841961",
     "status": "completed"
    },
    "tags": []
   },
   "outputs": [],
   "source": [
    "# Converting dataframe to tensorflow tensor then scaling the data to [0,1]\n",
    "X = tf.convert_to_tensor(X, tf.float64) / 255.0\n",
    "X_test = tf.convert_to_tensor(X_test, tf.float64) / 255.0\n",
    "y = tf.convert_to_tensor(y)\n",
    "X = tf.reshape(X, (-1, 28, 28, 1))\n",
    "X_test = tf.reshape(X_test, (-1,28,28,1))"
   ]
  },
  {
   "cell_type": "code",
   "execution_count": 5,
   "id": "6d2aa870",
   "metadata": {
    "execution": {
     "iopub.execute_input": "2023-10-10T14:15:13.183735Z",
     "iopub.status.busy": "2023-10-10T14:15:13.183084Z",
     "iopub.status.idle": "2023-10-10T14:15:13.198894Z",
     "shell.execute_reply": "2023-10-10T14:15:13.198041Z"
    },
    "papermill": {
     "duration": 0.022559,
     "end_time": "2023-10-10T14:15:13.200747",
     "exception": false,
     "start_time": "2023-10-10T14:15:13.178188",
     "status": "completed"
    },
    "tags": []
   },
   "outputs": [],
   "source": [
    "n1 = int(X.shape[0]*.9)\n",
    "X_train, y_train = X[:n1], y[:n1]\n",
    "X_valid, y_valid = X[n1:], y[n1:]"
   ]
  },
  {
   "cell_type": "markdown",
   "id": "f9e31bbe",
   "metadata": {
    "papermill": {
     "duration": 0.003518,
     "end_time": "2023-10-10T14:15:13.208453",
     "exception": false,
     "start_time": "2023-10-10T14:15:13.204935",
     "status": "completed"
    },
    "tags": []
   },
   "source": [
    "# Model training"
   ]
  },
  {
   "cell_type": "markdown",
   "id": "829c4aa4",
   "metadata": {
    "papermill": {
     "duration": 0.0037,
     "end_time": "2023-10-10T14:15:13.215850",
     "exception": false,
     "start_time": "2023-10-10T14:15:13.212150",
     "status": "completed"
    },
    "tags": []
   },
   "source": [
    "A basic CNN with 2 conv layers and 2 hidden layers, I use dropout on every single layer with p = 0.3 except for the input where I have found that it hinders performance. \n",
    "\n",
    "There is some data augmentation as well with a random rotation below 10° and a random translation between 0 and .1 in both dimensions.\n"
   ]
  },
  {
   "cell_type": "code",
   "execution_count": 6,
   "id": "0029d9a4",
   "metadata": {
    "execution": {
     "iopub.execute_input": "2023-10-10T14:15:13.224867Z",
     "iopub.status.busy": "2023-10-10T14:15:13.224299Z",
     "iopub.status.idle": "2023-10-10T14:15:13.228972Z",
     "shell.execute_reply": "2023-10-10T14:15:13.228113Z"
    },
    "papermill": {
     "duration": 0.010866,
     "end_time": "2023-10-10T14:15:13.230574",
     "exception": false,
     "start_time": "2023-10-10T14:15:13.219708",
     "status": "completed"
    },
    "tags": []
   },
   "outputs": [],
   "source": [
    "kernel_size  = 3\n",
    "dropout_rate = .3"
   ]
  },
  {
   "cell_type": "code",
   "execution_count": 7,
   "id": "db163a56",
   "metadata": {
    "execution": {
     "iopub.execute_input": "2023-10-10T14:15:13.239488Z",
     "iopub.status.busy": "2023-10-10T14:15:13.238769Z",
     "iopub.status.idle": "2023-10-10T14:15:13.246895Z",
     "shell.execute_reply": "2023-10-10T14:15:13.246043Z"
    },
    "papermill": {
     "duration": 0.014263,
     "end_time": "2023-10-10T14:15:13.248501",
     "exception": false,
     "start_time": "2023-10-10T14:15:13.234238",
     "status": "completed"
    },
    "tags": []
   },
   "outputs": [],
   "source": [
    "class MNIST(Model):\n",
    "    def __init__(self):\n",
    "        super().__init__()\n",
    "        self.training = True\n",
    "        \n",
    "        # Data augmentation\n",
    "        self.translate = tf.keras.layers.RandomTranslation(.1, .1)\n",
    "        self.rotate = tf.keras.layers.RandomRotation(.03)\n",
    "        \n",
    "        self.conv1 = Conv2D(64, kernel_size, activation = \"relu\")\n",
    "        self.dropout1 = Dropout(dropout_rate)\n",
    "        \n",
    "        self.conv2 = Conv2D(30, kernel_size, activation = \"relu\")\n",
    "        self.flatten = Flatten()\n",
    "        self.dropout2 = Dropout(dropout_rate)\n",
    "        \n",
    "        self.ln1 = Dense(1024, activation = \"relu\")\n",
    "        self.dropout3 = Dropout(dropout_rate)\n",
    "        \n",
    "        self.ln2 = Dense(2048, activation = \"relu\")\n",
    "        self.dropout4 = Dropout(dropout_rate)\n",
    "        \n",
    "        self.out = Dense(10)\n",
    "        \n",
    "    def call(self, x):\n",
    "            \n",
    "        x = self.translate(x, training = self.training)\n",
    "        x = self.rotate(x, training = self.training)\n",
    "        \n",
    "        x = self.conv1(x)\n",
    "        x = self.dropout1(x, training = self.training)\n",
    "        \n",
    "        x = self.conv2(x)\n",
    "        x = self.dropout2(x, training = self.training)\n",
    "        x = self.flatten(x)\n",
    "        \n",
    "        x = self.ln1(x)\n",
    "        x = self.dropout3(x, training = self.training)\n",
    "        \n",
    "        x = self.ln2(x)\n",
    "        x = self.dropout4(x, training = self.training)\n",
    "        \n",
    "        out = self.out(x)\n",
    "        \n",
    "        return out"
   ]
  },
  {
   "cell_type": "code",
   "execution_count": 8,
   "id": "bb017792",
   "metadata": {
    "execution": {
     "iopub.execute_input": "2023-10-10T14:15:13.257013Z",
     "iopub.status.busy": "2023-10-10T14:15:13.256624Z",
     "iopub.status.idle": "2023-10-10T14:15:13.517407Z",
     "shell.execute_reply": "2023-10-10T14:15:13.516579Z"
    },
    "papermill": {
     "duration": 0.284541,
     "end_time": "2023-10-10T14:15:13.536677",
     "exception": false,
     "start_time": "2023-10-10T14:15:13.252136",
     "status": "completed"
    },
    "tags": []
   },
   "outputs": [
    {
     "name": "stdout",
     "output_type": "stream",
     "text": [
      "Model: \"mnist\"\n",
      "_________________________________________________________________\n",
      " Layer (type)                Output Shape              Param #   \n",
      "=================================================================\n",
      " random_translation (RandomT  multiple                 0         \n",
      " ranslation)                                                     \n",
      "                                                                 \n",
      " random_rotation (RandomRota  multiple                 0         \n",
      " tion)                                                           \n",
      "                                                                 \n",
      " conv2d (Conv2D)             multiple                  640       \n",
      "                                                                 \n",
      " dropout (Dropout)           multiple                  0         \n",
      "                                                                 \n",
      " conv2d_1 (Conv2D)           multiple                  17310     \n",
      "                                                                 \n",
      " flatten (Flatten)           multiple                  0         \n",
      "                                                                 \n",
      " dropout_1 (Dropout)         multiple                  0         \n",
      "                                                                 \n",
      " dense (Dense)               multiple                  17695744  \n",
      "                                                                 \n",
      " dropout_2 (Dropout)         multiple                  0         \n",
      "                                                                 \n",
      " dense_1 (Dense)             multiple                  2099200   \n",
      "                                                                 \n",
      " dropout_3 (Dropout)         multiple                  0         \n",
      "                                                                 \n",
      " dense_2 (Dense)             multiple                  20490     \n",
      "                                                                 \n",
      "=================================================================\n",
      "Total params: 19,833,384\n",
      "Trainable params: 19,833,384\n",
      "Non-trainable params: 0\n",
      "_________________________________________________________________\n"
     ]
    }
   ],
   "source": [
    "model= MNIST()\n",
    "model.build((None, 28, 28, 1))\n",
    "model.summary()"
   ]
  },
  {
   "cell_type": "markdown",
   "id": "46b6c1f6",
   "metadata": {
    "papermill": {
     "duration": 0.005134,
     "end_time": "2023-10-10T14:15:13.547159",
     "exception": false,
     "start_time": "2023-10-10T14:15:13.542025",
     "status": "completed"
    },
    "tags": []
   },
   "source": [
    "The dropout paper claims that decaying learning rate works best for NNs with dropout so that's why I chose exponential decay. As for the actual values, several were tested and this seemed to work best."
   ]
  },
  {
   "cell_type": "code",
   "execution_count": 9,
   "id": "d6fec0e3",
   "metadata": {
    "execution": {
     "iopub.execute_input": "2023-10-10T14:15:13.558482Z",
     "iopub.status.busy": "2023-10-10T14:15:13.558232Z",
     "iopub.status.idle": "2023-10-10T14:15:13.575526Z",
     "shell.execute_reply": "2023-10-10T14:15:13.574747Z"
    },
    "papermill": {
     "duration": 0.024958,
     "end_time": "2023-10-10T14:15:13.577220",
     "exception": false,
     "start_time": "2023-10-10T14:15:13.552262",
     "status": "completed"
    },
    "tags": []
   },
   "outputs": [],
   "source": [
    "lr = tf.keras.optimizers.schedules.ExponentialDecay(5e-4, 500, .9)\n",
    "optimizer = tf.keras.optimizers.Adam(lr)\n",
    "loss_fn = tf.keras.losses.SparseCategoricalCrossentropy(from_logits = True)"
   ]
  },
  {
   "cell_type": "markdown",
   "id": "f50c84e0",
   "metadata": {
    "papermill": {
     "duration": 0.005167,
     "end_time": "2023-10-10T14:15:13.587597",
     "exception": false,
     "start_time": "2023-10-10T14:15:13.582430",
     "status": "completed"
    },
    "tags": []
   },
   "source": [
    "I use the training and testing steps straight from the tensorflow docs with minor changes."
   ]
  },
  {
   "cell_type": "code",
   "execution_count": 10,
   "id": "eb42a678",
   "metadata": {
    "execution": {
     "iopub.execute_input": "2023-10-10T14:15:13.599074Z",
     "iopub.status.busy": "2023-10-10T14:15:13.598724Z",
     "iopub.status.idle": "2023-10-10T14:15:13.603821Z",
     "shell.execute_reply": "2023-10-10T14:15:13.602829Z"
    },
    "papermill": {
     "duration": 0.01271,
     "end_time": "2023-10-10T14:15:13.605484",
     "exception": false,
     "start_time": "2023-10-10T14:15:13.592774",
     "status": "completed"
    },
    "tags": []
   },
   "outputs": [],
   "source": [
    "@tf.function\n",
    "def train_step(X:tf.Tensor, y:tf.Tensor):\n",
    "    model.training = True\n",
    "    \n",
    "    with tf.GradientTape() as tape:\n",
    "        predictions = model(X)\n",
    "        loss = loss_fn(y, predictions)\n",
    "    \n",
    "    gradients = tape.gradient(loss, model.trainable_variables)\n",
    "    optimizer.apply_gradients(zip(gradients, model.trainable_variables))\n",
    "    \n",
    "    return loss"
   ]
  },
  {
   "cell_type": "code",
   "execution_count": 11,
   "id": "e577d85a",
   "metadata": {
    "execution": {
     "iopub.execute_input": "2023-10-10T14:15:13.617286Z",
     "iopub.status.busy": "2023-10-10T14:15:13.616742Z",
     "iopub.status.idle": "2023-10-10T14:15:13.621498Z",
     "shell.execute_reply": "2023-10-10T14:15:13.620745Z"
    },
    "papermill": {
     "duration": 0.012241,
     "end_time": "2023-10-10T14:15:13.623099",
     "exception": false,
     "start_time": "2023-10-10T14:15:13.610858",
     "status": "completed"
    },
    "tags": []
   },
   "outputs": [],
   "source": [
    "@tf.function\n",
    "def test_step(images, labels):\n",
    "    model.training = False\n",
    "    predictions = model(images)\n",
    "    loss = loss_fn(labels, predictions)\n",
    "    return loss"
   ]
  },
  {
   "cell_type": "markdown",
   "id": "0ae0660e",
   "metadata": {
    "papermill": {
     "duration": 0.005079,
     "end_time": "2023-10-10T14:15:13.633334",
     "exception": false,
     "start_time": "2023-10-10T14:15:13.628255",
     "status": "completed"
    },
    "tags": []
   },
   "source": [
    "I used a fairly typical training loop."
   ]
  },
  {
   "cell_type": "code",
   "execution_count": 12,
   "id": "c1581a28",
   "metadata": {
    "execution": {
     "iopub.execute_input": "2023-10-10T14:15:13.645230Z",
     "iopub.status.busy": "2023-10-10T14:15:13.644489Z",
     "iopub.status.idle": "2023-10-10T14:15:13.648396Z",
     "shell.execute_reply": "2023-10-10T14:15:13.647589Z"
    },
    "papermill": {
     "duration": 0.011496,
     "end_time": "2023-10-10T14:15:13.650048",
     "exception": false,
     "start_time": "2023-10-10T14:15:13.638552",
     "status": "completed"
    },
    "tags": []
   },
   "outputs": [],
   "source": [
    "batch_size = 128\n",
    "EPOCHS = 60"
   ]
  },
  {
   "cell_type": "code",
   "execution_count": 13,
   "id": "85792171",
   "metadata": {
    "execution": {
     "iopub.execute_input": "2023-10-10T14:15:13.661841Z",
     "iopub.status.busy": "2023-10-10T14:15:13.661135Z",
     "iopub.status.idle": "2023-10-10T14:15:13.898147Z",
     "shell.execute_reply": "2023-10-10T14:15:13.897255Z"
    },
    "papermill": {
     "duration": 0.244797,
     "end_time": "2023-10-10T14:15:13.900020",
     "exception": false,
     "start_time": "2023-10-10T14:15:13.655223",
     "status": "completed"
    },
    "tags": []
   },
   "outputs": [],
   "source": [
    "data = tf.data.Dataset.from_tensor_slices((X_train, y_train))\n",
    "data = data.shuffle(buffer_size = len(X_train), reshuffle_each_iteration = True, \n",
    "                          seed = 10)"
   ]
  },
  {
   "cell_type": "markdown",
   "id": "644d3eba",
   "metadata": {
    "papermill": {
     "duration": 0.005215,
     "end_time": "2023-10-10T14:15:13.910699",
     "exception": false,
     "start_time": "2023-10-10T14:15:13.905484",
     "status": "completed"
    },
    "tags": []
   },
   "source": [
    "This is the final training loop (without validation)."
   ]
  },
  {
   "cell_type": "code",
   "execution_count": 14,
   "id": "cb62e839",
   "metadata": {
    "execution": {
     "iopub.execute_input": "2023-10-10T14:15:13.922178Z",
     "iopub.status.busy": "2023-10-10T14:15:13.921929Z",
     "iopub.status.idle": "2023-10-10T14:15:13.928219Z",
     "shell.execute_reply": "2023-10-10T14:15:13.927378Z"
    },
    "papermill": {
     "duration": 0.014024,
     "end_time": "2023-10-10T14:15:13.929937",
     "exception": false,
     "start_time": "2023-10-10T14:15:13.915913",
     "status": "completed"
    },
    "tags": []
   },
   "outputs": [
    {
     "data": {
      "text/plain": [
       "'\\n# Training loop\\nfor epoch in range(1, EPOCHS+1):\\n    \\n    dataset = data.batch(batch_size, drop_remainder = False)\\n    loss = 0\\n    \\n    for X_batch, y_batch in dataset:\\n        loss += train_step(X_batch, y_batch) * len(X_batch)\\n        \\n    loss /= len(X_train)\\n\\n    val_loss = test_step(X_valid, y_valid)\\n    val_accuracy = (np.argmax(model(X_valid), 1) == np.array(y_valid)).mean()  \\n    \\n    print(f\"Epoch {epoch}/{EPOCHS}: loss: {loss}, val_loss: {val_loss}, val_accuracy: {val_accuracy}\")\\n'"
      ]
     },
     "execution_count": 14,
     "metadata": {},
     "output_type": "execute_result"
    }
   ],
   "source": [
    "\"\"\"\n",
    "# Training loop\n",
    "for epoch in range(1, EPOCHS+1):\n",
    "    \n",
    "    dataset = data.batch(batch_size, drop_remainder = False)\n",
    "    loss = 0\n",
    "    \n",
    "    for X_batch, y_batch in dataset:\n",
    "        loss += train_step(X_batch, y_batch) * len(X_batch)\n",
    "        \n",
    "    loss /= len(X_train)\n",
    "\n",
    "    val_loss = test_step(X_valid, y_valid)\n",
    "    val_accuracy = (np.argmax(model(X_valid), 1) == np.array(y_valid)).mean()  \n",
    "    \n",
    "    print(f\"Epoch {epoch}/{EPOCHS}: loss: {loss}, val_loss: {val_loss}, val_accuracy: {val_accuracy}\")\n",
    "\"\"\""
   ]
  },
  {
   "cell_type": "code",
   "execution_count": 15,
   "id": "b38e9aef",
   "metadata": {
    "execution": {
     "iopub.execute_input": "2023-10-10T14:15:13.942259Z",
     "iopub.status.busy": "2023-10-10T14:15:13.941492Z",
     "iopub.status.idle": "2023-10-10T14:17:59.604617Z",
     "shell.execute_reply": "2023-10-10T14:17:59.603581Z"
    },
    "papermill": {
     "duration": 165.671135,
     "end_time": "2023-10-10T14:17:59.606484",
     "exception": false,
     "start_time": "2023-10-10T14:15:13.935349",
     "status": "completed"
    },
    "tags": []
   },
   "outputs": [
    {
     "name": "stderr",
     "output_type": "stream",
     "text": [
      "2023-10-10 14:15:15.455232: E tensorflow/core/grappler/optimizers/meta_optimizer.cc:954] layout failed: INVALID_ARGUMENT: Size of values 0 does not match size of permutation 4 @ fanin shape inmnist/dropout/dropout/SelectV2-2-TransposeNHWCToNCHW-LayoutOptimizer\n",
      "2023-10-10 14:15:25.564425: E tensorflow/core/grappler/optimizers/meta_optimizer.cc:954] layout failed: INVALID_ARGUMENT: Size of values 0 does not match size of permutation 4 @ fanin shape inmnist/dropout/dropout/SelectV2-2-TransposeNHWCToNCHW-LayoutOptimizer\n"
     ]
    },
    {
     "name": "stdout",
     "output_type": "stream",
     "text": [
      "Epoch 1/60: loss: 0.41428911685943604\n",
      "Epoch 2/60: loss: 0.1351550668478012\n",
      "Epoch 3/60: loss: 0.09914227575063705\n",
      "Epoch 4/60: loss: 0.08334425836801529\n",
      "Epoch 5/60: loss: 0.07100579142570496\n",
      "Epoch 6/60: loss: 0.06276685744524002\n",
      "Epoch 7/60: loss: 0.055649738758802414\n",
      "Epoch 8/60: loss: 0.051215775310993195\n",
      "Epoch 9/60: loss: 0.049323949962854385\n",
      "Epoch 10/60: loss: 0.045397404581308365\n",
      "Epoch 11/60: loss: 0.03997902572154999\n",
      "Epoch 12/60: loss: 0.0399911031126976\n",
      "Epoch 13/60: loss: 0.0377754345536232\n",
      "Epoch 14/60: loss: 0.03718235716223717\n",
      "Epoch 15/60: loss: 0.032407548278570175\n",
      "Epoch 16/60: loss: 0.0313614197075367\n",
      "Epoch 17/60: loss: 0.03147077560424805\n",
      "Epoch 18/60: loss: 0.027498338371515274\n",
      "Epoch 19/60: loss: 0.028238864615559578\n",
      "Epoch 20/60: loss: 0.02635655365884304\n",
      "Epoch 21/60: loss: 0.025728655979037285\n",
      "Epoch 22/60: loss: 0.024710210040211678\n",
      "Epoch 23/60: loss: 0.023347340524196625\n",
      "Epoch 24/60: loss: 0.02158503420650959\n",
      "Epoch 25/60: loss: 0.022218290716409683\n",
      "Epoch 26/60: loss: 0.022256188094615936\n",
      "Epoch 27/60: loss: 0.020524369552731514\n",
      "Epoch 28/60: loss: 0.019934529438614845\n",
      "Epoch 29/60: loss: 0.02243952639400959\n",
      "Epoch 30/60: loss: 0.019025316461920738\n",
      "Epoch 31/60: loss: 0.016570696607232094\n",
      "Epoch 32/60: loss: 0.016932101920247078\n",
      "Epoch 33/60: loss: 0.016944682225584984\n",
      "Epoch 34/60: loss: 0.01648339070379734\n",
      "Epoch 35/60: loss: 0.017475465312600136\n",
      "Epoch 36/60: loss: 0.01589871197938919\n",
      "Epoch 37/60: loss: 0.015964090824127197\n",
      "Epoch 38/60: loss: 0.015251180157065392\n",
      "Epoch 39/60: loss: 0.015080115757882595\n",
      "Epoch 40/60: loss: 0.01533030066639185\n",
      "Epoch 41/60: loss: 0.015031270682811737\n",
      "Epoch 42/60: loss: 0.015679826959967613\n",
      "Epoch 43/60: loss: 0.014095737598836422\n",
      "Epoch 44/60: loss: 0.013520619831979275\n",
      "Epoch 45/60: loss: 0.014248298481106758\n",
      "Epoch 46/60: loss: 0.013131381012499332\n",
      "Epoch 47/60: loss: 0.014489609748125076\n",
      "Epoch 48/60: loss: 0.012857616879045963\n",
      "Epoch 49/60: loss: 0.013601548969745636\n",
      "Epoch 50/60: loss: 0.013483165763318539\n",
      "Epoch 51/60: loss: 0.013024797663092613\n",
      "Epoch 52/60: loss: 0.012201680801808834\n",
      "Epoch 53/60: loss: 0.012736625038087368\n",
      "Epoch 54/60: loss: 0.011286119930446148\n",
      "Epoch 55/60: loss: 0.01178683526813984\n",
      "Epoch 56/60: loss: 0.01209909375756979\n",
      "Epoch 57/60: loss: 0.012481766752898693\n",
      "Epoch 58/60: loss: 0.012538844719529152\n",
      "Epoch 59/60: loss: 0.01250027772039175\n",
      "Epoch 60/60: loss: 0.01204589568078518\n"
     ]
    }
   ],
   "source": [
    "for epoch in range(EPOCHS):\n",
    "\n",
    "    dataset = data.batch(batch_size, drop_remainder = False)\n",
    "    loss = 0\n",
    "    \n",
    "    for X_batch, y_batch in dataset: \n",
    "        loss += train_step(X_batch, y_batch)*len(X_batch)\n",
    "        \n",
    "    loss /= len(X)\n",
    "    print(f\"Epoch {epoch+1}/{EPOCHS}: loss: {loss}\")"
   ]
  },
  {
   "cell_type": "markdown",
   "id": "5366941f",
   "metadata": {
    "papermill": {
     "duration": 0.007864,
     "end_time": "2023-10-10T14:17:59.622558",
     "exception": false,
     "start_time": "2023-10-10T14:17:59.614694",
     "status": "completed"
    },
    "tags": []
   },
   "source": [
    "Putting the model in inference mode and passing the test data in batches to support GPU's memory limitations and then creating a submission that complies to the kaggle competition format."
   ]
  },
  {
   "cell_type": "code",
   "execution_count": 16,
   "id": "dc85c1cd",
   "metadata": {
    "execution": {
     "iopub.execute_input": "2023-10-10T14:17:59.639938Z",
     "iopub.status.busy": "2023-10-10T14:17:59.639343Z",
     "iopub.status.idle": "2023-10-10T14:18:01.230307Z",
     "shell.execute_reply": "2023-10-10T14:18:01.229286Z"
    },
    "papermill": {
     "duration": 1.602175,
     "end_time": "2023-10-10T14:18:01.232573",
     "exception": false,
     "start_time": "2023-10-10T14:17:59.630398",
     "status": "completed"
    },
    "tags": []
   },
   "outputs": [],
   "source": [
    "model.training = False\n",
    "y_pred = []\n",
    "\n",
    "for i in range(0, len(X_test)-100+1, 100):\n",
    "    partial = np.argmax(model(X_test[i:i+100]), axis = 1)\n",
    "    y_pred.append(partial)\n",
    "    \n",
    "y_pred = np.array(y_pred).reshape(-1)"
   ]
  },
  {
   "cell_type": "code",
   "execution_count": 17,
   "id": "2288f9a5",
   "metadata": {
    "execution": {
     "iopub.execute_input": "2023-10-10T14:18:01.251860Z",
     "iopub.status.busy": "2023-10-10T14:18:01.251538Z",
     "iopub.status.idle": "2023-10-10T14:18:01.416127Z",
     "shell.execute_reply": "2023-10-10T14:18:01.415212Z"
    },
    "papermill": {
     "duration": 0.176562,
     "end_time": "2023-10-10T14:18:01.417900",
     "exception": false,
     "start_time": "2023-10-10T14:18:01.241338",
     "status": "completed"
    },
    "tags": []
   },
   "outputs": [],
   "source": [
    "image_id = np.arange(start = 1, stop = y_pred.shape[0]+1)\n",
    "\n",
    "submission = pd.DataFrame(zip(image_id,y_pred), columns = [\"ImageId\",\"label\"])\n",
    "submission.set_index(\"ImageId\",inplace = True)\n",
    "submission.to_csv(\"submission.csv\")"
   ]
  }
 ],
 "metadata": {
  "kernelspec": {
   "display_name": "Python 3",
   "language": "python",
   "name": "python3"
  },
  "language_info": {
   "codemirror_mode": {
    "name": "ipython",
    "version": 3
   },
   "file_extension": ".py",
   "mimetype": "text/x-python",
   "name": "python",
   "nbconvert_exporter": "python",
   "pygments_lexer": "ipython3",
   "version": "3.10.12"
  },
  "papermill": {
   "default_parameters": {},
   "duration": 193.487542,
   "end_time": "2023-10-10T14:18:04.367023",
   "environment_variables": {},
   "exception": null,
   "input_path": "__notebook__.ipynb",
   "output_path": "__notebook__.ipynb",
   "parameters": {},
   "start_time": "2023-10-10T14:14:50.879481",
   "version": "2.4.0"
  }
 },
 "nbformat": 4,
 "nbformat_minor": 5
}
